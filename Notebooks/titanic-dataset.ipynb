{
 "cells": [
  {
   "cell_type": "markdown",
   "id": "56069576",
   "metadata": {
    "papermill": {
     "duration": 0.011384,
     "end_time": "2024-11-25T13:05:42.382435",
     "exception": false,
     "start_time": "2024-11-25T13:05:42.371051",
     "status": "completed"
    },
    "tags": []
   },
   "source": [
    "# Titanic Dataset\n",
    "1. Understand the shape of the data (Histogram, Box-Plots)\n",
    "2. Data Cleaning\n",
    "3. Data Exploration\n",
    "4. Feature Engineering\n",
    "5. Data Processing for Model\n",
    "6. Basic Model Building\n",
    "7. Model Tuning\n",
    "8. Ensemble Model Building\n",
    "9. Evaluation"
   ]
  },
  {
   "cell_type": "markdown",
   "id": "1913fb6d",
   "metadata": {
    "papermill": {
     "duration": 0.011252,
     "end_time": "2024-11-25T13:05:42.405315",
     "exception": false,
     "start_time": "2024-11-25T13:05:42.394063",
     "status": "completed"
    },
    "tags": []
   },
   "source": [
    "## Understanding the shape of the data"
   ]
  },
  {
   "cell_type": "code",
   "execution_count": 64,
   "id": "1ba3af4c",
   "metadata": {
    "papermill": {
     "duration": 1.651025,
     "end_time": "2024-11-25T13:05:44.067922",
     "exception": false,
     "start_time": "2024-11-25T13:05:42.416897",
     "status": "completed"
    },
    "tags": []
   },
   "outputs": [
    {
     "name": "stdout",
     "output_type": "stream",
     "text": [
      "Sucessfully Imported\n"
     ]
    }
   ],
   "source": [
    "## importing necessary libraries\n",
    "import pandas as pd\n",
    "import numpy as np\n",
    "import matplotlib.pyplot as plt\n",
    "import seaborn as sns\n",
    "pd.set_option('display.max_columns', None)\n",
    "import warnings\n",
    "warnings.filterwarnings('ignore')\n",
    "%matplotlib inline\n",
    "print('Sucessfully Imported')"
   ]
  },
  {
   "cell_type": "code",
   "execution_count": 65,
   "id": "c9ae5b62",
   "metadata": {
    "papermill": {
     "duration": 0.055197,
     "end_time": "2024-11-25T13:05:44.135287",
     "exception": false,
     "start_time": "2024-11-25T13:05:44.080090",
     "status": "completed"
    },
    "tags": []
   },
   "outputs": [
    {
     "data": {
      "text/html": [
       "<div>\n",
       "<style scoped>\n",
       "    .dataframe tbody tr th:only-of-type {\n",
       "        vertical-align: middle;\n",
       "    }\n",
       "\n",
       "    .dataframe tbody tr th {\n",
       "        vertical-align: top;\n",
       "    }\n",
       "\n",
       "    .dataframe thead th {\n",
       "        text-align: right;\n",
       "    }\n",
       "</style>\n",
       "<table border=\"1\" class=\"dataframe\">\n",
       "  <thead>\n",
       "    <tr style=\"text-align: right;\">\n",
       "      <th></th>\n",
       "      <th>PassengerId</th>\n",
       "      <th>Survived</th>\n",
       "      <th>Pclass</th>\n",
       "      <th>Name</th>\n",
       "      <th>Sex</th>\n",
       "      <th>Age</th>\n",
       "      <th>SibSp</th>\n",
       "      <th>Parch</th>\n",
       "      <th>Ticket</th>\n",
       "      <th>Fare</th>\n",
       "      <th>Cabin</th>\n",
       "      <th>Embarked</th>\n",
       "    </tr>\n",
       "  </thead>\n",
       "  <tbody>\n",
       "    <tr>\n",
       "      <th>0</th>\n",
       "      <td>1</td>\n",
       "      <td>0</td>\n",
       "      <td>3</td>\n",
       "      <td>Braund, Mr. Owen Harris</td>\n",
       "      <td>male</td>\n",
       "      <td>22.0</td>\n",
       "      <td>1</td>\n",
       "      <td>0</td>\n",
       "      <td>A/5 21171</td>\n",
       "      <td>7.2500</td>\n",
       "      <td>NaN</td>\n",
       "      <td>S</td>\n",
       "    </tr>\n",
       "    <tr>\n",
       "      <th>1</th>\n",
       "      <td>2</td>\n",
       "      <td>1</td>\n",
       "      <td>1</td>\n",
       "      <td>Cumings, Mrs. John Bradley (Florence Briggs Th...</td>\n",
       "      <td>female</td>\n",
       "      <td>38.0</td>\n",
       "      <td>1</td>\n",
       "      <td>0</td>\n",
       "      <td>PC 17599</td>\n",
       "      <td>71.2833</td>\n",
       "      <td>C85</td>\n",
       "      <td>C</td>\n",
       "    </tr>\n",
       "    <tr>\n",
       "      <th>2</th>\n",
       "      <td>3</td>\n",
       "      <td>1</td>\n",
       "      <td>3</td>\n",
       "      <td>Heikkinen, Miss. Laina</td>\n",
       "      <td>female</td>\n",
       "      <td>26.0</td>\n",
       "      <td>0</td>\n",
       "      <td>0</td>\n",
       "      <td>STON/O2. 3101282</td>\n",
       "      <td>7.9250</td>\n",
       "      <td>NaN</td>\n",
       "      <td>S</td>\n",
       "    </tr>\n",
       "    <tr>\n",
       "      <th>3</th>\n",
       "      <td>4</td>\n",
       "      <td>1</td>\n",
       "      <td>1</td>\n",
       "      <td>Futrelle, Mrs. Jacques Heath (Lily May Peel)</td>\n",
       "      <td>female</td>\n",
       "      <td>35.0</td>\n",
       "      <td>1</td>\n",
       "      <td>0</td>\n",
       "      <td>113803</td>\n",
       "      <td>53.1000</td>\n",
       "      <td>C123</td>\n",
       "      <td>S</td>\n",
       "    </tr>\n",
       "    <tr>\n",
       "      <th>4</th>\n",
       "      <td>5</td>\n",
       "      <td>0</td>\n",
       "      <td>3</td>\n",
       "      <td>Allen, Mr. William Henry</td>\n",
       "      <td>male</td>\n",
       "      <td>35.0</td>\n",
       "      <td>0</td>\n",
       "      <td>0</td>\n",
       "      <td>373450</td>\n",
       "      <td>8.0500</td>\n",
       "      <td>NaN</td>\n",
       "      <td>S</td>\n",
       "    </tr>\n",
       "  </tbody>\n",
       "</table>\n",
       "</div>"
      ],
      "text/plain": [
       "   PassengerId  Survived  Pclass  \\\n",
       "0            1         0       3   \n",
       "1            2         1       1   \n",
       "2            3         1       3   \n",
       "3            4         1       1   \n",
       "4            5         0       3   \n",
       "\n",
       "                                                Name     Sex   Age  SibSp  \\\n",
       "0                            Braund, Mr. Owen Harris    male  22.0      1   \n",
       "1  Cumings, Mrs. John Bradley (Florence Briggs Th...  female  38.0      1   \n",
       "2                             Heikkinen, Miss. Laina  female  26.0      0   \n",
       "3       Futrelle, Mrs. Jacques Heath (Lily May Peel)  female  35.0      1   \n",
       "4                           Allen, Mr. William Henry    male  35.0      0   \n",
       "\n",
       "   Parch            Ticket     Fare Cabin Embarked  \n",
       "0      0         A/5 21171   7.2500   NaN        S  \n",
       "1      0          PC 17599  71.2833   C85        C  \n",
       "2      0  STON/O2. 3101282   7.9250   NaN        S  \n",
       "3      0            113803  53.1000  C123        S  \n",
       "4      0            373450   8.0500   NaN        S  "
      ]
     },
     "execution_count": 65,
     "metadata": {},
     "output_type": "execute_result"
    }
   ],
   "source": [
    "## loading the dataset\n",
    "df = pd.read_csv('Titanic_train.csv')\n",
    "df.head()"
   ]
  },
  {
   "cell_type": "code",
   "execution_count": 66,
   "id": "1a38decf",
   "metadata": {
    "papermill": {
     "duration": 0.021058,
     "end_time": "2024-11-25T13:05:44.168423",
     "exception": false,
     "start_time": "2024-11-25T13:05:44.147365",
     "status": "completed"
    },
    "tags": []
   },
   "outputs": [
    {
     "name": "stdout",
     "output_type": "stream",
     "text": [
      "The columns of the dataset are \n",
      " Index(['PassengerId', 'Survived', 'Pclass', 'Name', 'Sex', 'Age', 'SibSp',\n",
      "       'Parch', 'Ticket', 'Fare', 'Cabin', 'Embarked'],\n",
      "      dtype='object')\n"
     ]
    }
   ],
   "source": [
    "## columns of the dataset\n",
    "columns = df.columns\n",
    "print(f'The columns of the dataset are \\n {columns}')"
   ]
  },
  {
   "cell_type": "code",
   "execution_count": 67,
   "id": "5e5a6b56",
   "metadata": {
    "papermill": {
     "duration": 0.020676,
     "end_time": "2024-11-25T13:05:44.201240",
     "exception": false,
     "start_time": "2024-11-25T13:05:44.180564",
     "status": "completed"
    },
    "tags": []
   },
   "outputs": [
    {
     "name": "stdout",
     "output_type": "stream",
     "text": [
      "The shape of the dataset is (891, 12)\n",
      "There are 891 rows\n",
      "and 12 columns\n"
     ]
    }
   ],
   "source": [
    "## shape of the dataset\n",
    "print(f'The shape of the dataset is {df.shape}')\n",
    "print(f'There are {df.shape[0]} rows')\n",
    "print(f'and {df.shape[1]} columns')"
   ]
  },
  {
   "cell_type": "code",
   "execution_count": 68,
   "id": "56da1de4",
   "metadata": {
    "papermill": {
     "duration": 0.045616,
     "end_time": "2024-11-25T13:05:44.258867",
     "exception": false,
     "start_time": "2024-11-25T13:05:44.213251",
     "status": "completed"
    },
    "tags": []
   },
   "outputs": [
    {
     "data": {
      "text/html": [
       "<div>\n",
       "<style scoped>\n",
       "    .dataframe tbody tr th:only-of-type {\n",
       "        vertical-align: middle;\n",
       "    }\n",
       "\n",
       "    .dataframe tbody tr th {\n",
       "        vertical-align: top;\n",
       "    }\n",
       "\n",
       "    .dataframe thead th {\n",
       "        text-align: right;\n",
       "    }\n",
       "</style>\n",
       "<table border=\"1\" class=\"dataframe\">\n",
       "  <thead>\n",
       "    <tr style=\"text-align: right;\">\n",
       "      <th></th>\n",
       "      <th>PassengerId</th>\n",
       "      <th>Survived</th>\n",
       "      <th>Pclass</th>\n",
       "      <th>Age</th>\n",
       "      <th>SibSp</th>\n",
       "      <th>Parch</th>\n",
       "      <th>Fare</th>\n",
       "    </tr>\n",
       "  </thead>\n",
       "  <tbody>\n",
       "    <tr>\n",
       "      <th>count</th>\n",
       "      <td>891.000000</td>\n",
       "      <td>891.000000</td>\n",
       "      <td>891.000000</td>\n",
       "      <td>714.000000</td>\n",
       "      <td>891.000000</td>\n",
       "      <td>891.000000</td>\n",
       "      <td>891.000000</td>\n",
       "    </tr>\n",
       "    <tr>\n",
       "      <th>mean</th>\n",
       "      <td>446.000000</td>\n",
       "      <td>0.383838</td>\n",
       "      <td>2.308642</td>\n",
       "      <td>29.699118</td>\n",
       "      <td>0.523008</td>\n",
       "      <td>0.381594</td>\n",
       "      <td>32.204208</td>\n",
       "    </tr>\n",
       "    <tr>\n",
       "      <th>std</th>\n",
       "      <td>257.353842</td>\n",
       "      <td>0.486592</td>\n",
       "      <td>0.836071</td>\n",
       "      <td>14.526497</td>\n",
       "      <td>1.102743</td>\n",
       "      <td>0.806057</td>\n",
       "      <td>49.693429</td>\n",
       "    </tr>\n",
       "    <tr>\n",
       "      <th>min</th>\n",
       "      <td>1.000000</td>\n",
       "      <td>0.000000</td>\n",
       "      <td>1.000000</td>\n",
       "      <td>0.420000</td>\n",
       "      <td>0.000000</td>\n",
       "      <td>0.000000</td>\n",
       "      <td>0.000000</td>\n",
       "    </tr>\n",
       "    <tr>\n",
       "      <th>25%</th>\n",
       "      <td>223.500000</td>\n",
       "      <td>0.000000</td>\n",
       "      <td>2.000000</td>\n",
       "      <td>20.125000</td>\n",
       "      <td>0.000000</td>\n",
       "      <td>0.000000</td>\n",
       "      <td>7.910400</td>\n",
       "    </tr>\n",
       "    <tr>\n",
       "      <th>50%</th>\n",
       "      <td>446.000000</td>\n",
       "      <td>0.000000</td>\n",
       "      <td>3.000000</td>\n",
       "      <td>28.000000</td>\n",
       "      <td>0.000000</td>\n",
       "      <td>0.000000</td>\n",
       "      <td>14.454200</td>\n",
       "    </tr>\n",
       "    <tr>\n",
       "      <th>75%</th>\n",
       "      <td>668.500000</td>\n",
       "      <td>1.000000</td>\n",
       "      <td>3.000000</td>\n",
       "      <td>38.000000</td>\n",
       "      <td>1.000000</td>\n",
       "      <td>0.000000</td>\n",
       "      <td>31.000000</td>\n",
       "    </tr>\n",
       "    <tr>\n",
       "      <th>max</th>\n",
       "      <td>891.000000</td>\n",
       "      <td>1.000000</td>\n",
       "      <td>3.000000</td>\n",
       "      <td>80.000000</td>\n",
       "      <td>8.000000</td>\n",
       "      <td>6.000000</td>\n",
       "      <td>512.329200</td>\n",
       "    </tr>\n",
       "  </tbody>\n",
       "</table>\n",
       "</div>"
      ],
      "text/plain": [
       "       PassengerId    Survived      Pclass         Age       SibSp  \\\n",
       "count   891.000000  891.000000  891.000000  714.000000  891.000000   \n",
       "mean    446.000000    0.383838    2.308642   29.699118    0.523008   \n",
       "std     257.353842    0.486592    0.836071   14.526497    1.102743   \n",
       "min       1.000000    0.000000    1.000000    0.420000    0.000000   \n",
       "25%     223.500000    0.000000    2.000000   20.125000    0.000000   \n",
       "50%     446.000000    0.000000    3.000000   28.000000    0.000000   \n",
       "75%     668.500000    1.000000    3.000000   38.000000    1.000000   \n",
       "max     891.000000    1.000000    3.000000   80.000000    8.000000   \n",
       "\n",
       "            Parch        Fare  \n",
       "count  891.000000  891.000000  \n",
       "mean     0.381594   32.204208  \n",
       "std      0.806057   49.693429  \n",
       "min      0.000000    0.000000  \n",
       "25%      0.000000    7.910400  \n",
       "50%      0.000000   14.454200  \n",
       "75%      0.000000   31.000000  \n",
       "max      6.000000  512.329200  "
      ]
     },
     "execution_count": 68,
     "metadata": {},
     "output_type": "execute_result"
    }
   ],
   "source": [
    "## statistical report for the numerical columns in the dataset\n",
    "df.select_dtypes(include=['int64','float64']).describe()"
   ]
  },
  {
   "cell_type": "code",
   "execution_count": 69,
   "id": "bcd01f5e",
   "metadata": {
    "papermill": {
     "duration": 0.040422,
     "end_time": "2024-11-25T13:05:44.311728",
     "exception": false,
     "start_time": "2024-11-25T13:05:44.271306",
     "status": "completed"
    },
    "tags": []
   },
   "outputs": [
    {
     "name": "stdout",
     "output_type": "stream",
     "text": [
      "<class 'pandas.core.frame.DataFrame'>\n",
      "RangeIndex: 891 entries, 0 to 890\n",
      "Data columns (total 12 columns):\n",
      " #   Column       Non-Null Count  Dtype  \n",
      "---  ------       --------------  -----  \n",
      " 0   PassengerId  891 non-null    int64  \n",
      " 1   Survived     891 non-null    int64  \n",
      " 2   Pclass       891 non-null    int64  \n",
      " 3   Name         891 non-null    object \n",
      " 4   Sex          891 non-null    object \n",
      " 5   Age          714 non-null    float64\n",
      " 6   SibSp        891 non-null    int64  \n",
      " 7   Parch        891 non-null    int64  \n",
      " 8   Ticket       891 non-null    object \n",
      " 9   Fare         891 non-null    float64\n",
      " 10  Cabin        204 non-null    object \n",
      " 11  Embarked     889 non-null    object \n",
      "dtypes: float64(2), int64(5), object(5)\n",
      "memory usage: 83.7+ KB\n"
     ]
    }
   ],
   "source": [
    "## Seeing the characteristics of the columns\n",
    "df.info()"
   ]
  },
  {
   "cell_type": "code",
   "execution_count": 70,
   "id": "c88819f0",
   "metadata": {
    "papermill": {
     "duration": 0.022816,
     "end_time": "2024-11-25T13:05:44.346935",
     "exception": false,
     "start_time": "2024-11-25T13:05:44.324119",
     "status": "completed"
    },
    "tags": []
   },
   "outputs": [
    {
     "name": "stdout",
     "output_type": "stream",
     "text": [
      "The number of numerical columns are 7\n",
      "The number of numerical columns are 5\n"
     ]
    }
   ],
   "source": [
    "## deferintiating the numerical and categorical values\n",
    "num_cols = df.select_dtypes(include=['int64','float64'])\n",
    "cat_cols = df.select_dtypes(exclude=['int64','float64'])\n",
    "print(f'The number of numerical columns are {len(num_cols.columns)}')\n",
    "print(f'The number of numerical columns are {len(cat_cols.columns)}')"
   ]
  },
  {
   "cell_type": "markdown",
   "id": "a04ad63e",
   "metadata": {
    "papermill": {
     "duration": 0.011727,
     "end_time": "2024-11-25T13:05:44.370897",
     "exception": false,
     "start_time": "2024-11-25T13:05:44.359170",
     "status": "completed"
    },
    "tags": []
   },
   "source": [
    "## Numerical Columns"
   ]
  },
  {
   "cell_type": "code",
   "execution_count": 71,
   "id": "29554b5d",
   "metadata": {
    "papermill": {
     "duration": 1.81274,
     "end_time": "2024-11-25T13:05:46.195876",
     "exception": false,
     "start_time": "2024-11-25T13:05:44.383136",
     "status": "completed"
    },
    "tags": []
   },
   "outputs": [
    {
     "data": {
      "image/png": "[encoded data removed]",
      "text/plain": [
       "<Figure size 1000x1500 with 7 Axes>"
      ]
     },
     "metadata": {},
     "output_type": "display_data"
    }
   ],
   "source": [
    "## Seeing the data distribution for the numerical columns\n",
    "total_cols = len(num_cols.columns)\n",
    "plt.figure(figsize=(10,15))\n",
    "plt.suptitle('Data distribution of Numerical Columns', fontsize=20)\n",
    "for idx, num in enumerate(num_cols, 1):\n",
    "    plt.subplot(8, 2, idx)\n",
    "    sns.histplot(data=num_cols, x=num, kde=True)\n",
    "    plt.title(f'for {num}')\n",
    "plt.tight_layout()\n",
    "plt.show()"
   ]
  },
  {
   "cell_type": "code",
   "execution_count": 72,
   "id": "a5bc6b58",
   "metadata": {
    "papermill": {
     "duration": 0.989637,
     "end_time": "2024-11-25T13:05:47.199231",
     "exception": false,
     "start_time": "2024-11-25T13:05:46.209594",
     "status": "completed"
    },
    "tags": []
   },
   "outputs": [
    {
     "data": {
      "image/png": "[encoded data removed]",
      "text/plain": [
       "<Figure size 1000x1500 with 7 Axes>"
      ]
     },
     "metadata": {},
     "output_type": "display_data"
    }
   ],
   "source": [
    "## checking for the outliers\n",
    "plt.figure(figsize=(10,15))\n",
    "plt.suptitle('Outliers', fontsize=20)\n",
    "for idx, num in enumerate(num_cols, 1):\n",
    "    plt.subplot(8, 2, idx)\n",
    "    sns.boxplot(data=num_cols, x=num)\n",
    "    plt.title(f'For {num}')\n",
    "plt.tight_layout()\n",
    "plt.show()"
   ]
  },
  {
   "cell_type": "code",
   "execution_count": 73,
   "id": "06f4f25d",
   "metadata": {
    "papermill": {
     "duration": 0.435382,
     "end_time": "2024-11-25T13:05:47.652523",
     "exception": false,
     "start_time": "2024-11-25T13:05:47.217141",
     "status": "completed"
    },
    "tags": []
   },
   "outputs": [
    {
     "data": {
      "image/png": "[encoded data removed]",
      "text/plain": [
       "<Figure size 1000x600 with 2 Axes>"
      ]
     },
     "metadata": {},
     "output_type": "display_data"
    }
   ],
   "source": [
    "## heatmap\n",
    "plt.figure(figsize=(10,6))\n",
    "plt.title('Co-Relation table for numerical columns')\n",
    "sns.heatmap(num_cols.corr(), annot=True)\n",
    "plt.show()"
   ]
  },
  {
   "cell_type": "code",
   "execution_count": 74,
   "id": "b33cdc28",
   "metadata": {
    "papermill": {
     "duration": 0.024556,
     "end_time": "2024-11-25T13:05:47.692801",
     "exception": false,
     "start_time": "2024-11-25T13:05:47.668245",
     "status": "completed"
    },
    "tags": []
   },
   "outputs": [],
   "source": [
    "def correlation(dataset, threshold):\n",
    "    col_corr = set()  # Set to store column names with high correlation\n",
    "    corr_matrix = dataset.corr()  # Calculate correlation matrix\n",
    "    \n",
    "    for i in range(len(corr_matrix.columns)):  # Loop through columns\n",
    "        for j in range(i):  # Loop through rows before the diagonal\n",
    "            if abs(corr_matrix.iloc[i, j]) >= threshold:  # Access with iloc\n",
    "                col_name = corr_matrix.columns[i]  # Get the column name\n",
    "                col_corr.add(col_name)  # Add the column name to the set\n",
    "    return col_corr"
   ]
  },
  {
   "cell_type": "code",
   "execution_count": 75,
   "id": "d8c9a196",
   "metadata": {
    "papermill": {
     "duration": 0.0325,
     "end_time": "2024-11-25T13:05:47.740673",
     "exception": false,
     "start_time": "2024-11-25T13:05:47.708173",
     "status": "completed"
    },
    "tags": []
   },
   "outputs": [
    {
     "name": "stdout",
     "output_type": "stream",
     "text": [
      "**************************************************\n",
      "For threshold value = 0.6\n",
      "There are 0\n",
      "With columns : \n",
      " set()\n",
      "**************************************************\n",
      "For threshold value = 0.5\n",
      "There are 1\n",
      "With columns : \n",
      " {'Fare'}\n",
      "**************************************************\n",
      "For threshold value = 0.4\n",
      "There are 2\n",
      "With columns : \n",
      " {'Fare', 'Parch'}\n",
      "**************************************************\n",
      "For threshold value = 0.3\n",
      "There are 5\n",
      "With columns : \n",
      " {'Fare', 'SibSp', 'Age', 'Parch', 'Pclass'}\n",
      "**************************************************\n"
     ]
    }
   ],
   "source": [
    "## let's check the multi-colinearity for the above numerical columns\n",
    "threshold_values = [0.60,0.50,0.40,0.30]\n",
    "print('*'*50)\n",
    "for i in threshold_values:\n",
    "    print(f'For threshold value = {i}')\n",
    "    print(f'There are {len(correlation(num_cols, i))}')\n",
    "    print(f'With columns : \\n {correlation(num_cols, i)}')\n",
    "    print('*'*50)"
   ]
  },
  {
   "cell_type": "markdown",
   "id": "5fee6c32",
   "metadata": {
    "papermill": {
     "duration": 0.015359,
     "end_time": "2024-11-25T13:05:47.771634",
     "exception": false,
     "start_time": "2024-11-25T13:05:47.756275",
     "status": "completed"
    },
    "tags": []
   },
   "source": [
    "##### So the mainly related columns are\n",
    "    Age, SibSp, Parch, Fare and Pclas"
   ]
  },
  {
   "cell_type": "code",
   "execution_count": 76,
   "id": "d4bb1e6f",
   "metadata": {
    "papermill": {
     "duration": 0.037025,
     "end_time": "2024-11-25T13:05:47.824030",
     "exception": false,
     "start_time": "2024-11-25T13:05:47.787005",
     "status": "completed"
    },
    "tags": []
   },
   "outputs": [
    {
     "data": {
      "text/html": [
       "<div>\n",
       "<style scoped>\n",
       "    .dataframe tbody tr th:only-of-type {\n",
       "        vertical-align: middle;\n",
       "    }\n",
       "\n",
       "    .dataframe tbody tr th {\n",
       "        vertical-align: top;\n",
       "    }\n",
       "\n",
       "    .dataframe thead th {\n",
       "        text-align: right;\n",
       "    }\n",
       "</style>\n",
       "<table border=\"1\" class=\"dataframe\">\n",
       "  <thead>\n",
       "    <tr style=\"text-align: right;\">\n",
       "      <th></th>\n",
       "      <th>Age</th>\n",
       "      <th>Fare</th>\n",
       "      <th>Parch</th>\n",
       "      <th>Pclass</th>\n",
       "      <th>SibSp</th>\n",
       "    </tr>\n",
       "    <tr>\n",
       "      <th>Survived</th>\n",
       "      <th></th>\n",
       "      <th></th>\n",
       "      <th></th>\n",
       "      <th></th>\n",
       "      <th></th>\n",
       "    </tr>\n",
       "  </thead>\n",
       "  <tbody>\n",
       "    <tr>\n",
       "      <th>0</th>\n",
       "      <td>30.626179</td>\n",
       "      <td>22.117887</td>\n",
       "      <td>0.329690</td>\n",
       "      <td>2.531876</td>\n",
       "      <td>0.553734</td>\n",
       "    </tr>\n",
       "    <tr>\n",
       "      <th>1</th>\n",
       "      <td>28.343690</td>\n",
       "      <td>48.395408</td>\n",
       "      <td>0.464912</td>\n",
       "      <td>1.950292</td>\n",
       "      <td>0.473684</td>\n",
       "    </tr>\n",
       "  </tbody>\n",
       "</table>\n",
       "</div>"
      ],
      "text/plain": [
       "                Age       Fare     Parch    Pclass     SibSp\n",
       "Survived                                                    \n",
       "0         30.626179  22.117887  0.329690  2.531876  0.553734\n",
       "1         28.343690  48.395408  0.464912  1.950292  0.473684"
      ]
     },
     "execution_count": 76,
     "metadata": {},
     "output_type": "execute_result"
    }
   ],
   "source": [
    "## comparing survival rate across Age, SibSp, Parch, Fare and Pclass\n",
    "surv_rate = pd.pivot_table(data=num_cols, values = ['Age','SibSp', 'Parch', 'Fare', 'Pclass'], index='Survived' )\n",
    "surv_rate"
   ]
  },
  {
   "cell_type": "code",
   "execution_count": 77,
   "id": "73f51a75",
   "metadata": {
    "papermill": {
     "duration": 0.799742,
     "end_time": "2024-11-25T13:05:48.639409",
     "exception": false,
     "start_time": "2024-11-25T13:05:47.839667",
     "status": "completed"
    },
    "tags": []
   },
   "outputs": [
    {
     "data": {
      "image/png": "[encoded data removed]",
      "text/plain": [
       "<Figure size 1000x1500 with 5 Axes>"
      ]
     },
     "metadata": {},
     "output_type": "display_data"
    }
   ],
   "source": [
    "## Let's vizualize the survial rate across various values\n",
    "plt.figure(figsize=(10,15))\n",
    "plt.suptitle('Vizualizing the survial rate across various factors')\n",
    "for idx, col in enumerate(surv_rate.columns, 1):\n",
    "    plt.subplot(3, 2, idx)\n",
    "    plt.title(f'Survival versus {col}')\n",
    "    sns.barplot(data=surv_rate, x=surv_rate.index, y=surv_rate[col])\n",
    "    plt.xlabel(f'{col}')\n",
    "    plt.ylabel('Survival')\n",
    "plt.tight_layout()\n",
    "plt.show()"
   ]
  },
  {
   "cell_type": "markdown",
   "id": "92f11037",
   "metadata": {
    "papermill": {
     "duration": 0.016024,
     "end_time": "2024-11-25T13:05:48.672632",
     "exception": false,
     "start_time": "2024-11-25T13:05:48.656608",
     "status": "completed"
    },
    "tags": []
   },
   "source": [
    "## Categorical Columns"
   ]
  },
  {
   "cell_type": "code",
   "execution_count": 78,
   "id": "73874c5a",
   "metadata": {
    "papermill": {
     "duration": 0.491661,
     "end_time": "2024-11-25T13:05:49.183961",
     "exception": false,
     "start_time": "2024-11-25T13:05:48.692300",
     "status": "completed"
    },
    "tags": []
   },
   "outputs": [
    {
     "data": {
      "image/png": "[encoded data removed]",
      "text/plain": [
       "<Figure size 1000x1500 with 2 Axes>"
      ]
     },
     "metadata": {},
     "output_type": "display_data"
    }
   ],
   "source": [
    "## Let's vizualize the survial rate across various values\n",
    "\n",
    "# Specify the columns to plot\n",
    "new_cols = ['Sex', 'Embarked']  # 'Ticket' and 'Cabin' are not directly plottable due to unique values\n",
    "\n",
    "plt.figure(figsize=(10, 15))\n",
    "plt.suptitle('Visualizing the Survival Rate across Various Factors')\n",
    "\n",
    "for idx, col in enumerate(new_cols, 1):\n",
    "    plt.subplot(3, 2, idx)\n",
    "    plt.title(f'Survival versus {col}')\n",
    "    \n",
    "    # Plot the count of each category for Survived and Not Survived\n",
    "    sns.countplot(data=df, x='Survived', hue=col)\n",
    "    \n",
    "    plt.xlabel('Survived')\n",
    "    plt.ylabel('Count')\n",
    "    \n",
    "plt.tight_layout()\n",
    "plt.show()\n"
   ]
  },
  {
   "cell_type": "markdown",
   "id": "0df6dba3",
   "metadata": {
    "papermill": {
     "duration": 0.016691,
     "end_time": "2024-11-25T13:05:49.217891",
     "exception": false,
     "start_time": "2024-11-25T13:05:49.201200",
     "status": "completed"
    },
    "tags": []
   },
   "source": [
    "## Feature Engineering"
   ]
  },
  {
   "cell_type": "code",
   "execution_count": 79,
   "id": "c4f28576",
   "metadata": {
    "papermill": {
     "duration": 0.034478,
     "end_time": "2024-11-25T13:05:49.269061",
     "exception": false,
     "start_time": "2024-11-25T13:05:49.234583",
     "status": "completed"
    },
    "tags": []
   },
   "outputs": [
    {
     "data": {
      "text/html": [
       "<div>\n",
       "<style scoped>\n",
       "    .dataframe tbody tr th:only-of-type {\n",
       "        vertical-align: middle;\n",
       "    }\n",
       "\n",
       "    .dataframe tbody tr th {\n",
       "        vertical-align: top;\n",
       "    }\n",
       "\n",
       "    .dataframe thead th {\n",
       "        text-align: right;\n",
       "    }\n",
       "</style>\n",
       "<table border=\"1\" class=\"dataframe\">\n",
       "  <thead>\n",
       "    <tr style=\"text-align: right;\">\n",
       "      <th></th>\n",
       "      <th>PassengerId</th>\n",
       "      <th>Survived</th>\n",
       "      <th>Pclass</th>\n",
       "      <th>Name</th>\n",
       "      <th>Sex</th>\n",
       "      <th>Age</th>\n",
       "      <th>SibSp</th>\n",
       "      <th>Parch</th>\n",
       "      <th>Ticket</th>\n",
       "      <th>Fare</th>\n",
       "      <th>Cabin</th>\n",
       "      <th>Embarked</th>\n",
       "    </tr>\n",
       "  </thead>\n",
       "  <tbody>\n",
       "    <tr>\n",
       "      <th>0</th>\n",
       "      <td>1</td>\n",
       "      <td>0</td>\n",
       "      <td>3</td>\n",
       "      <td>Braund, Mr. Owen Harris</td>\n",
       "      <td>male</td>\n",
       "      <td>22.0</td>\n",
       "      <td>1</td>\n",
       "      <td>0</td>\n",
       "      <td>A/5 21171</td>\n",
       "      <td>7.2500</td>\n",
       "      <td>NaN</td>\n",
       "      <td>S</td>\n",
       "    </tr>\n",
       "    <tr>\n",
       "      <th>1</th>\n",
       "      <td>2</td>\n",
       "      <td>1</td>\n",
       "      <td>1</td>\n",
       "      <td>Cumings, Mrs. John Bradley (Florence Briggs Th...</td>\n",
       "      <td>female</td>\n",
       "      <td>38.0</td>\n",
       "      <td>1</td>\n",
       "      <td>0</td>\n",
       "      <td>PC 17599</td>\n",
       "      <td>71.2833</td>\n",
       "      <td>C85</td>\n",
       "      <td>C</td>\n",
       "    </tr>\n",
       "    <tr>\n",
       "      <th>2</th>\n",
       "      <td>3</td>\n",
       "      <td>1</td>\n",
       "      <td>3</td>\n",
       "      <td>Heikkinen, Miss. Laina</td>\n",
       "      <td>female</td>\n",
       "      <td>26.0</td>\n",
       "      <td>0</td>\n",
       "      <td>0</td>\n",
       "      <td>STON/O2. 3101282</td>\n",
       "      <td>7.9250</td>\n",
       "      <td>NaN</td>\n",
       "      <td>S</td>\n",
       "    </tr>\n",
       "    <tr>\n",
       "      <th>3</th>\n",
       "      <td>4</td>\n",
       "      <td>1</td>\n",
       "      <td>1</td>\n",
       "      <td>Futrelle, Mrs. Jacques Heath (Lily May Peel)</td>\n",
       "      <td>female</td>\n",
       "      <td>35.0</td>\n",
       "      <td>1</td>\n",
       "      <td>0</td>\n",
       "      <td>113803</td>\n",
       "      <td>53.1000</td>\n",
       "      <td>C123</td>\n",
       "      <td>S</td>\n",
       "    </tr>\n",
       "    <tr>\n",
       "      <th>4</th>\n",
       "      <td>5</td>\n",
       "      <td>0</td>\n",
       "      <td>3</td>\n",
       "      <td>Allen, Mr. William Henry</td>\n",
       "      <td>male</td>\n",
       "      <td>35.0</td>\n",
       "      <td>0</td>\n",
       "      <td>0</td>\n",
       "      <td>373450</td>\n",
       "      <td>8.0500</td>\n",
       "      <td>NaN</td>\n",
       "      <td>S</td>\n",
       "    </tr>\n",
       "  </tbody>\n",
       "</table>\n",
       "</div>"
      ],
      "text/plain": [
       "   PassengerId  Survived  Pclass  \\\n",
       "0            1         0       3   \n",
       "1            2         1       1   \n",
       "2            3         1       3   \n",
       "3            4         1       1   \n",
       "4            5         0       3   \n",
       "\n",
       "                                                Name     Sex   Age  SibSp  \\\n",
       "0                            Braund, Mr. Owen Harris    male  22.0      1   \n",
       "1  Cumings, Mrs. John Bradley (Florence Briggs Th...  female  38.0      1   \n",
       "2                             Heikkinen, Miss. Laina  female  26.0      0   \n",
       "3       Futrelle, Mrs. Jacques Heath (Lily May Peel)  female  35.0      1   \n",
       "4                           Allen, Mr. William Henry    male  35.0      0   \n",
       "\n",
       "   Parch            Ticket     Fare Cabin Embarked  \n",
       "0      0         A/5 21171   7.2500   NaN        S  \n",
       "1      0          PC 17599  71.2833   C85        C  \n",
       "2      0  STON/O2. 3101282   7.9250   NaN        S  \n",
       "3      0            113803  53.1000  C123        S  \n",
       "4      0            373450   8.0500   NaN        S  "
      ]
     },
     "execution_count": 79,
     "metadata": {},
     "output_type": "execute_result"
    }
   ],
   "source": [
    "df.head()"
   ]
  },
  {
   "cell_type": "code",
   "execution_count": 80,
   "id": "7727b4da",
   "metadata": {
    "papermill": {
     "duration": 0.036781,
     "end_time": "2024-11-25T13:05:49.322984",
     "exception": false,
     "start_time": "2024-11-25T13:05:49.286203",
     "status": "completed"
    },
    "tags": []
   },
   "outputs": [
    {
     "data": {
      "text/html": [
       "<div>\n",
       "<style scoped>\n",
       "    .dataframe tbody tr th:only-of-type {\n",
       "        vertical-align: middle;\n",
       "    }\n",
       "\n",
       "    .dataframe tbody tr th {\n",
       "        vertical-align: top;\n",
       "    }\n",
       "\n",
       "    .dataframe thead th {\n",
       "        text-align: right;\n",
       "    }\n",
       "</style>\n",
       "<table border=\"1\" class=\"dataframe\">\n",
       "  <thead>\n",
       "    <tr style=\"text-align: right;\">\n",
       "      <th></th>\n",
       "      <th>Survived</th>\n",
       "      <th>Pclass</th>\n",
       "      <th>Name</th>\n",
       "      <th>Sex</th>\n",
       "      <th>Age</th>\n",
       "      <th>SibSp</th>\n",
       "      <th>Parch</th>\n",
       "      <th>Ticket</th>\n",
       "      <th>Fare</th>\n",
       "      <th>Cabin</th>\n",
       "      <th>Embarked</th>\n",
       "    </tr>\n",
       "  </thead>\n",
       "  <tbody>\n",
       "    <tr>\n",
       "      <th>0</th>\n",
       "      <td>0</td>\n",
       "      <td>3</td>\n",
       "      <td>Braund, Mr. Owen Harris</td>\n",
       "      <td>male</td>\n",
       "      <td>22.0</td>\n",
       "      <td>1</td>\n",
       "      <td>0</td>\n",
       "      <td>A/5 21171</td>\n",
       "      <td>7.2500</td>\n",
       "      <td>NaN</td>\n",
       "      <td>S</td>\n",
       "    </tr>\n",
       "    <tr>\n",
       "      <th>1</th>\n",
       "      <td>1</td>\n",
       "      <td>1</td>\n",
       "      <td>Cumings, Mrs. John Bradley (Florence Briggs Th...</td>\n",
       "      <td>female</td>\n",
       "      <td>38.0</td>\n",
       "      <td>1</td>\n",
       "      <td>0</td>\n",
       "      <td>PC 17599</td>\n",
       "      <td>71.2833</td>\n",
       "      <td>C85</td>\n",
       "      <td>C</td>\n",
       "    </tr>\n",
       "  </tbody>\n",
       "</table>\n",
       "</div>"
      ],
      "text/plain": [
       "   Survived  Pclass                                               Name  \\\n",
       "0         0       3                            Braund, Mr. Owen Harris   \n",
       "1         1       1  Cumings, Mrs. John Bradley (Florence Briggs Th...   \n",
       "\n",
       "      Sex   Age  SibSp  Parch     Ticket     Fare Cabin Embarked  \n",
       "0    male  22.0      1      0  A/5 21171   7.2500   NaN        S  \n",
       "1  female  38.0      1      0   PC 17599  71.2833   C85        C  "
      ]
     },
     "execution_count": 80,
     "metadata": {},
     "output_type": "execute_result"
    }
   ],
   "source": [
    "## let's drop un-necessary columns\n",
    "df.drop(columns=['PassengerId'], inplace=True)\n",
    "df.head(2)"
   ]
  },
  {
   "cell_type": "code",
   "execution_count": 81,
   "id": "03e6e454",
   "metadata": {
    "papermill": {
     "duration": 0.029148,
     "end_time": "2024-11-25T13:05:49.369785",
     "exception": false,
     "start_time": "2024-11-25T13:05:49.340637",
     "status": "completed"
    },
    "tags": []
   },
   "outputs": [
    {
     "data": {
      "text/plain": [
       "Cabin\n",
       "B96 B98        4\n",
       "G6             4\n",
       "C23 C25 C27    4\n",
       "C22 C26        3\n",
       "F33            3\n",
       "              ..\n",
       "E34            1\n",
       "C7             1\n",
       "C54            1\n",
       "E36            1\n",
       "C148           1\n",
       "Name: count, Length: 147, dtype: int64"
      ]
     },
     "execution_count": 81,
     "metadata": {},
     "output_type": "execute_result"
    }
   ],
   "source": [
    "## Let's check each of the columns for distinct categories\n",
    "df.Cabin.value_counts()"
   ]
  },
  {
   "cell_type": "code",
   "execution_count": 82,
   "id": "5a2fd2fb",
   "metadata": {
    "papermill": {
     "duration": 0.036365,
     "end_time": "2024-11-25T13:05:49.430023",
     "exception": false,
     "start_time": "2024-11-25T13:05:49.393658",
     "status": "completed"
    },
    "tags": []
   },
   "outputs": [
    {
     "data": {
      "text/plain": [
       "cabin_multiple\n",
       "0    687\n",
       "1    180\n",
       "2     16\n",
       "3      6\n",
       "4      2\n",
       "Name: count, dtype: int64"
      ]
     },
     "execution_count": 82,
     "metadata": {},
     "output_type": "execute_result"
    }
   ],
   "source": [
    "df['cabin_multiple'] = df['Cabin'].apply(lambda x: 0 if pd.isna(x) else len(x.split(' '))) ## checks if the cabin is null and if not, it will split the string and it will put number of cabin assigned to the person\n",
    "df['cabin_multiple'].value_counts()"
   ]
  },
  {
   "cell_type": "code",
   "execution_count": 83,
   "id": "2286a9eb",
   "metadata": {
    "papermill": {
     "duration": 0.042791,
     "end_time": "2024-11-25T13:05:49.490474",
     "exception": false,
     "start_time": "2024-11-25T13:05:49.447683",
     "status": "completed"
    },
    "tags": []
   },
   "outputs": [
    {
     "data": {
      "text/html": [
       "<div>\n",
       "<style scoped>\n",
       "    .dataframe tbody tr th:only-of-type {\n",
       "        vertical-align: middle;\n",
       "    }\n",
       "\n",
       "    .dataframe tbody tr th {\n",
       "        vertical-align: top;\n",
       "    }\n",
       "\n",
       "    .dataframe thead th {\n",
       "        text-align: right;\n",
       "    }\n",
       "</style>\n",
       "<table border=\"1\" class=\"dataframe\">\n",
       "  <thead>\n",
       "    <tr style=\"text-align: right;\">\n",
       "      <th>cabin_multiple</th>\n",
       "      <th>0</th>\n",
       "      <th>1</th>\n",
       "      <th>2</th>\n",
       "      <th>3</th>\n",
       "      <th>4</th>\n",
       "    </tr>\n",
       "    <tr>\n",
       "      <th>Survived</th>\n",
       "      <th></th>\n",
       "      <th></th>\n",
       "      <th></th>\n",
       "      <th></th>\n",
       "      <th></th>\n",
       "    </tr>\n",
       "  </thead>\n",
       "  <tbody>\n",
       "    <tr>\n",
       "      <th>0</th>\n",
       "      <td>481.0</td>\n",
       "      <td>58.0</td>\n",
       "      <td>7.0</td>\n",
       "      <td>3.0</td>\n",
       "      <td>NaN</td>\n",
       "    </tr>\n",
       "    <tr>\n",
       "      <th>1</th>\n",
       "      <td>206.0</td>\n",
       "      <td>122.0</td>\n",
       "      <td>9.0</td>\n",
       "      <td>3.0</td>\n",
       "      <td>2.0</td>\n",
       "    </tr>\n",
       "  </tbody>\n",
       "</table>\n",
       "</div>"
      ],
      "text/plain": [
       "cabin_multiple      0      1    2    3    4\n",
       "Survived                                   \n",
       "0               481.0   58.0  7.0  3.0  NaN\n",
       "1               206.0  122.0  9.0  3.0  2.0"
      ]
     },
     "execution_count": 83,
     "metadata": {},
     "output_type": "execute_result"
    }
   ],
   "source": [
    "## survival rate based on multiple cabins\n",
    "pd.pivot_table(data=df, columns = ['cabin_multiple'], index='Survived', values='Ticket', aggfunc='count')"
   ]
  },
  {
   "cell_type": "markdown",
   "id": "02ef8b29",
   "metadata": {
    "papermill": {
     "duration": 0.019293,
     "end_time": "2024-11-25T13:05:50.089924",
     "exception": false,
     "start_time": "2024-11-25T13:05:50.070631",
     "status": "completed"
    },
    "tags": []
   },
   "source": [
    "## Data Pre-Processing"
   ]
  },
  {
   "cell_type": "code",
   "execution_count": 84,
   "id": "6a95a075",
   "metadata": {
    "papermill": {
     "duration": 0.036224,
     "end_time": "2024-11-25T13:05:50.145159",
     "exception": false,
     "start_time": "2024-11-25T13:05:50.108935",
     "status": "completed"
    },
    "tags": []
   },
   "outputs": [
    {
     "data": {
      "text/html": [
       "<div>\n",
       "<style scoped>\n",
       "    .dataframe tbody tr th:only-of-type {\n",
       "        vertical-align: middle;\n",
       "    }\n",
       "\n",
       "    .dataframe tbody tr th {\n",
       "        vertical-align: top;\n",
       "    }\n",
       "\n",
       "    .dataframe thead th {\n",
       "        text-align: right;\n",
       "    }\n",
       "</style>\n",
       "<table border=\"1\" class=\"dataframe\">\n",
       "  <thead>\n",
       "    <tr style=\"text-align: right;\">\n",
       "      <th></th>\n",
       "      <th>Survived</th>\n",
       "      <th>Pclass</th>\n",
       "      <th>Name</th>\n",
       "      <th>Sex</th>\n",
       "      <th>Age</th>\n",
       "      <th>SibSp</th>\n",
       "      <th>Parch</th>\n",
       "      <th>Ticket</th>\n",
       "      <th>Fare</th>\n",
       "      <th>Cabin</th>\n",
       "      <th>Embarked</th>\n",
       "      <th>cabin_multiple</th>\n",
       "    </tr>\n",
       "  </thead>\n",
       "  <tbody>\n",
       "    <tr>\n",
       "      <th>0</th>\n",
       "      <td>0</td>\n",
       "      <td>3</td>\n",
       "      <td>Braund, Mr. Owen Harris</td>\n",
       "      <td>male</td>\n",
       "      <td>22.0</td>\n",
       "      <td>1</td>\n",
       "      <td>0</td>\n",
       "      <td>A/5 21171</td>\n",
       "      <td>7.2500</td>\n",
       "      <td>NaN</td>\n",
       "      <td>S</td>\n",
       "      <td>0</td>\n",
       "    </tr>\n",
       "    <tr>\n",
       "      <th>1</th>\n",
       "      <td>1</td>\n",
       "      <td>1</td>\n",
       "      <td>Cumings, Mrs. John Bradley (Florence Briggs Th...</td>\n",
       "      <td>female</td>\n",
       "      <td>38.0</td>\n",
       "      <td>1</td>\n",
       "      <td>0</td>\n",
       "      <td>PC 17599</td>\n",
       "      <td>71.2833</td>\n",
       "      <td>C85</td>\n",
       "      <td>C</td>\n",
       "      <td>1</td>\n",
       "    </tr>\n",
       "    <tr>\n",
       "      <th>2</th>\n",
       "      <td>1</td>\n",
       "      <td>3</td>\n",
       "      <td>Heikkinen, Miss. Laina</td>\n",
       "      <td>female</td>\n",
       "      <td>26.0</td>\n",
       "      <td>0</td>\n",
       "      <td>0</td>\n",
       "      <td>STON/O2. 3101282</td>\n",
       "      <td>7.9250</td>\n",
       "      <td>NaN</td>\n",
       "      <td>S</td>\n",
       "      <td>0</td>\n",
       "    </tr>\n",
       "  </tbody>\n",
       "</table>\n",
       "</div>"
      ],
      "text/plain": [
       "   Survived  Pclass                                               Name  \\\n",
       "0         0       3                            Braund, Mr. Owen Harris   \n",
       "1         1       1  Cumings, Mrs. John Bradley (Florence Briggs Th...   \n",
       "2         1       3                             Heikkinen, Miss. Laina   \n",
       "\n",
       "      Sex   Age  SibSp  Parch            Ticket     Fare Cabin Embarked  \\\n",
       "0    male  22.0      1      0         A/5 21171   7.2500   NaN        S   \n",
       "1  female  38.0      1      0          PC 17599  71.2833   C85        C   \n",
       "2  female  26.0      0      0  STON/O2. 3101282   7.9250   NaN        S   \n",
       "\n",
       "   cabin_multiple  \n",
       "0               0  \n",
       "1               1  \n",
       "2               0  "
      ]
     },
     "execution_count": 84,
     "metadata": {},
     "output_type": "execute_result"
    }
   ],
   "source": [
    "df.head(3)"
   ]
  },
  {
   "cell_type": "code",
   "execution_count": 85,
   "id": "58554cd0",
   "metadata": {
    "papermill": {
     "duration": 0.037813,
     "end_time": "2024-11-25T13:05:50.202528",
     "exception": false,
     "start_time": "2024-11-25T13:05:50.164715",
     "status": "completed"
    },
    "tags": []
   },
   "outputs": [
    {
     "data": {
      "text/html": [
       "<div>\n",
       "<style scoped>\n",
       "    .dataframe tbody tr th:only-of-type {\n",
       "        vertical-align: middle;\n",
       "    }\n",
       "\n",
       "    .dataframe tbody tr th {\n",
       "        vertical-align: top;\n",
       "    }\n",
       "\n",
       "    .dataframe thead th {\n",
       "        text-align: right;\n",
       "    }\n",
       "</style>\n",
       "<table border=\"1\" class=\"dataframe\">\n",
       "  <thead>\n",
       "    <tr style=\"text-align: right;\">\n",
       "      <th></th>\n",
       "      <th>Survived</th>\n",
       "      <th>Pclass</th>\n",
       "      <th>Sex</th>\n",
       "      <th>Age</th>\n",
       "      <th>SibSp</th>\n",
       "      <th>Parch</th>\n",
       "      <th>Fare</th>\n",
       "      <th>Embarked</th>\n",
       "      <th>cabin_multiple</th>\n",
       "    </tr>\n",
       "  </thead>\n",
       "  <tbody>\n",
       "    <tr>\n",
       "      <th>0</th>\n",
       "      <td>0</td>\n",
       "      <td>3</td>\n",
       "      <td>male</td>\n",
       "      <td>22.0</td>\n",
       "      <td>1</td>\n",
       "      <td>0</td>\n",
       "      <td>7.2500</td>\n",
       "      <td>S</td>\n",
       "      <td>0</td>\n",
       "    </tr>\n",
       "    <tr>\n",
       "      <th>1</th>\n",
       "      <td>1</td>\n",
       "      <td>1</td>\n",
       "      <td>female</td>\n",
       "      <td>38.0</td>\n",
       "      <td>1</td>\n",
       "      <td>0</td>\n",
       "      <td>71.2833</td>\n",
       "      <td>C</td>\n",
       "      <td>1</td>\n",
       "    </tr>\n",
       "    <tr>\n",
       "      <th>2</th>\n",
       "      <td>1</td>\n",
       "      <td>3</td>\n",
       "      <td>female</td>\n",
       "      <td>26.0</td>\n",
       "      <td>0</td>\n",
       "      <td>0</td>\n",
       "      <td>7.9250</td>\n",
       "      <td>S</td>\n",
       "      <td>0</td>\n",
       "    </tr>\n",
       "    <tr>\n",
       "      <th>3</th>\n",
       "      <td>1</td>\n",
       "      <td>1</td>\n",
       "      <td>female</td>\n",
       "      <td>35.0</td>\n",
       "      <td>1</td>\n",
       "      <td>0</td>\n",
       "      <td>53.1000</td>\n",
       "      <td>S</td>\n",
       "      <td>1</td>\n",
       "    </tr>\n",
       "    <tr>\n",
       "      <th>4</th>\n",
       "      <td>0</td>\n",
       "      <td>3</td>\n",
       "      <td>male</td>\n",
       "      <td>35.0</td>\n",
       "      <td>0</td>\n",
       "      <td>0</td>\n",
       "      <td>8.0500</td>\n",
       "      <td>S</td>\n",
       "      <td>0</td>\n",
       "    </tr>\n",
       "  </tbody>\n",
       "</table>\n",
       "</div>"
      ],
      "text/plain": [
       "   Survived  Pclass     Sex   Age  SibSp  Parch     Fare Embarked  \\\n",
       "0         0       3    male  22.0      1      0   7.2500        S   \n",
       "1         1       1  female  38.0      1      0  71.2833        C   \n",
       "2         1       3  female  26.0      0      0   7.9250        S   \n",
       "3         1       1  female  35.0      1      0  53.1000        S   \n",
       "4         0       3    male  35.0      0      0   8.0500        S   \n",
       "\n",
       "   cabin_multiple  \n",
       "0               0  \n",
       "1               1  \n",
       "2               0  \n",
       "3               1  \n",
       "4               0  "
      ]
     },
     "execution_count": 85,
     "metadata": {},
     "output_type": "execute_result"
    }
   ],
   "source": [
    "## drop un-wanted columns\n",
    "df.drop(columns=['Name','Ticket','Cabin'], inplace=True)\n",
    "df.head()"
   ]
  },
  {
   "cell_type": "code",
   "execution_count": 86,
   "id": "7a05f272",
   "metadata": {
    "papermill": {
     "duration": 0.030979,
     "end_time": "2024-11-25T13:05:50.253141",
     "exception": false,
     "start_time": "2024-11-25T13:05:50.222162",
     "status": "completed"
    },
    "tags": []
   },
   "outputs": [
    {
     "data": {
      "text/plain": [
       "Survived            0\n",
       "Pclass              0\n",
       "Sex                 0\n",
       "Age               177\n",
       "SibSp               0\n",
       "Parch               0\n",
       "Fare                0\n",
       "Embarked            2\n",
       "cabin_multiple      0\n",
       "dtype: int64"
      ]
     },
     "execution_count": 86,
     "metadata": {},
     "output_type": "execute_result"
    }
   ],
   "source": [
    "df.isnull().sum()"
   ]
  },
  {
   "cell_type": "code",
   "execution_count": 87,
   "id": "db4f75e4",
   "metadata": {
    "papermill": {
     "duration": 0.029244,
     "end_time": "2024-11-25T13:05:50.301937",
     "exception": false,
     "start_time": "2024-11-25T13:05:50.272693",
     "status": "completed"
    },
    "tags": []
   },
   "outputs": [],
   "source": [
    "## droping the null values present in Embarked\n",
    "df.dropna(subset=['Embarked'], inplace=True)"
   ]
  },
  {
   "cell_type": "code",
   "execution_count": 88,
   "id": "c8d1db68-ceae-438c-b857-1140a725261e",
   "metadata": {},
   "outputs": [
    {
     "name": "stdout",
     "output_type": "stream",
     "text": [
      "The shape of the dataset is (889, 9)\n"
     ]
    }
   ],
   "source": [
    "## checking the shape of the dataset\n",
    "print(f'The shape of the dataset is {df.shape}')"
   ]
  },
  {
   "cell_type": "code",
   "execution_count": 89,
   "id": "57de8785",
   "metadata": {
    "papermill": {
     "duration": 0.028976,
     "end_time": "2024-11-25T13:05:50.350685",
     "exception": false,
     "start_time": "2024-11-25T13:05:50.321709",
     "status": "completed"
    },
    "tags": []
   },
   "outputs": [
    {
     "name": "stdout",
     "output_type": "stream",
     "text": [
      "The mean age is 29.64209269662921\n",
      "replaced\n"
     ]
    }
   ],
   "source": [
    "## replacing the mean of the age with null-values\n",
    "mean_age = np.mean(df['Age'])\n",
    "print(f'The mean age is {mean_age}' )\n",
    "df.Age = df.Age.fillna(mean_age)\n",
    "print('replaced')"
   ]
  },
  {
   "cell_type": "code",
   "execution_count": 90,
   "id": "6e6daffe",
   "metadata": {
    "papermill": {
     "duration": 0.031364,
     "end_time": "2024-11-25T13:05:50.401639",
     "exception": false,
     "start_time": "2024-11-25T13:05:50.370275",
     "status": "completed"
    },
    "tags": []
   },
   "outputs": [
    {
     "data": {
      "text/plain": [
       "Survived          0\n",
       "Pclass            0\n",
       "Sex               0\n",
       "Age               0\n",
       "SibSp             0\n",
       "Parch             0\n",
       "Fare              0\n",
       "Embarked          0\n",
       "cabin_multiple    0\n",
       "dtype: int64"
      ]
     },
     "execution_count": 90,
     "metadata": {},
     "output_type": "execute_result"
    }
   ],
   "source": [
    "df.isnull().sum()"
   ]
  },
  {
   "cell_type": "code",
   "execution_count": 91,
   "id": "b43a1e1e",
   "metadata": {
    "papermill": {
     "duration": 0.035071,
     "end_time": "2024-11-25T13:05:50.456412",
     "exception": false,
     "start_time": "2024-11-25T13:05:50.421341",
     "status": "completed"
    },
    "tags": []
   },
   "outputs": [
    {
     "name": "stdout",
     "output_type": "stream",
     "text": [
      "<class 'pandas.core.frame.DataFrame'>\n",
      "Index: 889 entries, 0 to 890\n",
      "Data columns (total 9 columns):\n",
      " #   Column          Non-Null Count  Dtype  \n",
      "---  ------          --------------  -----  \n",
      " 0   Survived        889 non-null    int64  \n",
      " 1   Pclass          889 non-null    int64  \n",
      " 2   Sex             889 non-null    object \n",
      " 3   Age             889 non-null    float64\n",
      " 4   SibSp           889 non-null    int64  \n",
      " 5   Parch           889 non-null    int64  \n",
      " 6   Fare            889 non-null    float64\n",
      " 7   Embarked        889 non-null    object \n",
      " 8   cabin_multiple  889 non-null    int64  \n",
      "dtypes: float64(2), int64(5), object(2)\n",
      "memory usage: 69.5+ KB\n"
     ]
    }
   ],
   "source": [
    "df.info()"
   ]
  },
  {
   "cell_type": "code",
   "execution_count": 92,
   "id": "c5173381",
   "metadata": {
    "papermill": {
     "duration": 0.034995,
     "end_time": "2024-11-25T13:05:50.510818",
     "exception": false,
     "start_time": "2024-11-25T13:05:50.475823",
     "status": "completed"
    },
    "tags": []
   },
   "outputs": [
    {
     "name": "stdout",
     "output_type": "stream",
     "text": [
      "==================================================\n",
      "Value Count for\n",
      "Sex\n",
      "male      577\n",
      "female    312\n",
      "Name: count, dtype: int64\n",
      "==================================================\n",
      "==================================================\n",
      "Value Count for\n",
      "Embarked\n",
      "S    644\n",
      "C    168\n",
      "Q     77\n",
      "Name: count, dtype: int64\n",
      "==================================================\n"
     ]
    }
   ],
   "source": [
    "categorical_columns = df.select_dtypes(include='object')\n",
    "## check the unique values in each of the categorical colums\n",
    "for i in categorical_columns.columns:\n",
    "    print('='*50)\n",
    "    print('Value Count for')\n",
    "    print(df[i].value_counts())\n",
    "    print('='*50)"
   ]
  },
  {
   "cell_type": "code",
   "execution_count": 93,
   "id": "c95d9c4b",
   "metadata": {
    "papermill": {
     "duration": 0.191533,
     "end_time": "2024-11-25T13:05:50.722250",
     "exception": false,
     "start_time": "2024-11-25T13:05:50.530717",
     "status": "completed"
    },
    "tags": []
   },
   "outputs": [],
   "source": [
    "from sklearn.preprocessing import LabelEncoder\n",
    "\n",
    "# List of columns to encode\n",
    "columns_to_encode = ['Sex', 'Embarked']\n",
    "\n",
    "# Initialize a dictionary to store encoders for each column\n",
    "encoders = {}\n",
    "\n",
    "# Replace original columns with their encoded values\n",
    "for col in columns_to_encode:\n",
    "    df[col] = df[col].astype(str)  # Convert all values to strings\n",
    "    le = LabelEncoder()  # Create a LabelEncoder instance\n",
    "    df[col] = le.fit_transform(df[col])  # Replace the original column with encoded values\n",
    "    encoders[col] = le  # Store the encoder for future use (optional)\n",
    "\n"
   ]
  },
  {
   "cell_type": "code",
   "execution_count": 94,
   "id": "30f4fe1a",
   "metadata": {
    "papermill": {
     "duration": 0.033234,
     "end_time": "2024-11-25T13:05:50.775264",
     "exception": false,
     "start_time": "2024-11-25T13:05:50.742030",
     "status": "completed"
    },
    "tags": []
   },
   "outputs": [
    {
     "name": "stdout",
     "output_type": "stream",
     "text": [
      "==================================================\n",
      "Value Count for\n",
      "Sex\n",
      "1    577\n",
      "0    312\n",
      "Name: count, dtype: int64\n",
      "==================================================\n",
      "==================================================\n",
      "Value Count for\n",
      "Embarked\n",
      "2    644\n",
      "0    168\n",
      "1     77\n",
      "Name: count, dtype: int64\n",
      "==================================================\n"
     ]
    }
   ],
   "source": [
    "## let's again check for the value counts\n",
    "## check the unique values in each of the categorical colums\n",
    "for i in categorical_columns.columns:\n",
    "    print('='*50)\n",
    "    print('Value Count for')\n",
    "    print(df[i].value_counts())\n",
    "    print('='*50)"
   ]
  },
  {
   "cell_type": "code",
   "execution_count": 95,
   "id": "923490db",
   "metadata": {
    "papermill": {
     "duration": 0.035681,
     "end_time": "2024-11-25T13:05:50.830739",
     "exception": false,
     "start_time": "2024-11-25T13:05:50.795058",
     "status": "completed"
    },
    "tags": []
   },
   "outputs": [
    {
     "data": {
      "text/html": [
       "<div>\n",
       "<style scoped>\n",
       "    .dataframe tbody tr th:only-of-type {\n",
       "        vertical-align: middle;\n",
       "    }\n",
       "\n",
       "    .dataframe tbody tr th {\n",
       "        vertical-align: top;\n",
       "    }\n",
       "\n",
       "    .dataframe thead th {\n",
       "        text-align: right;\n",
       "    }\n",
       "</style>\n",
       "<table border=\"1\" class=\"dataframe\">\n",
       "  <thead>\n",
       "    <tr style=\"text-align: right;\">\n",
       "      <th></th>\n",
       "      <th>Survived</th>\n",
       "      <th>Pclass</th>\n",
       "      <th>Sex</th>\n",
       "      <th>Age</th>\n",
       "      <th>SibSp</th>\n",
       "      <th>Parch</th>\n",
       "      <th>Fare</th>\n",
       "      <th>Embarked</th>\n",
       "      <th>cabin_multiple</th>\n",
       "    </tr>\n",
       "  </thead>\n",
       "  <tbody>\n",
       "    <tr>\n",
       "      <th>0</th>\n",
       "      <td>0</td>\n",
       "      <td>3</td>\n",
       "      <td>1</td>\n",
       "      <td>22.0</td>\n",
       "      <td>1</td>\n",
       "      <td>0</td>\n",
       "      <td>7.2500</td>\n",
       "      <td>2</td>\n",
       "      <td>0</td>\n",
       "    </tr>\n",
       "    <tr>\n",
       "      <th>1</th>\n",
       "      <td>1</td>\n",
       "      <td>1</td>\n",
       "      <td>0</td>\n",
       "      <td>38.0</td>\n",
       "      <td>1</td>\n",
       "      <td>0</td>\n",
       "      <td>71.2833</td>\n",
       "      <td>0</td>\n",
       "      <td>1</td>\n",
       "    </tr>\n",
       "    <tr>\n",
       "      <th>2</th>\n",
       "      <td>1</td>\n",
       "      <td>3</td>\n",
       "      <td>0</td>\n",
       "      <td>26.0</td>\n",
       "      <td>0</td>\n",
       "      <td>0</td>\n",
       "      <td>7.9250</td>\n",
       "      <td>2</td>\n",
       "      <td>0</td>\n",
       "    </tr>\n",
       "    <tr>\n",
       "      <th>3</th>\n",
       "      <td>1</td>\n",
       "      <td>1</td>\n",
       "      <td>0</td>\n",
       "      <td>35.0</td>\n",
       "      <td>1</td>\n",
       "      <td>0</td>\n",
       "      <td>53.1000</td>\n",
       "      <td>2</td>\n",
       "      <td>1</td>\n",
       "    </tr>\n",
       "    <tr>\n",
       "      <th>4</th>\n",
       "      <td>0</td>\n",
       "      <td>3</td>\n",
       "      <td>1</td>\n",
       "      <td>35.0</td>\n",
       "      <td>0</td>\n",
       "      <td>0</td>\n",
       "      <td>8.0500</td>\n",
       "      <td>2</td>\n",
       "      <td>0</td>\n",
       "    </tr>\n",
       "  </tbody>\n",
       "</table>\n",
       "</div>"
      ],
      "text/plain": [
       "   Survived  Pclass  Sex   Age  SibSp  Parch     Fare  Embarked  \\\n",
       "0         0       3    1  22.0      1      0   7.2500         2   \n",
       "1         1       1    0  38.0      1      0  71.2833         0   \n",
       "2         1       3    0  26.0      0      0   7.9250         2   \n",
       "3         1       1    0  35.0      1      0  53.1000         2   \n",
       "4         0       3    1  35.0      0      0   8.0500         2   \n",
       "\n",
       "   cabin_multiple  \n",
       "0               0  \n",
       "1               1  \n",
       "2               0  \n",
       "3               1  \n",
       "4               0  "
      ]
     },
     "execution_count": 95,
     "metadata": {},
     "output_type": "execute_result"
    }
   ],
   "source": [
    "df.head()"
   ]
  },
  {
   "cell_type": "code",
   "execution_count": 96,
   "id": "c52f13eb",
   "metadata": {
    "papermill": {
     "duration": 0.035194,
     "end_time": "2024-11-25T13:05:50.885679",
     "exception": false,
     "start_time": "2024-11-25T13:05:50.850485",
     "status": "completed"
    },
    "tags": []
   },
   "outputs": [
    {
     "name": "stdout",
     "output_type": "stream",
     "text": [
      "<class 'pandas.core.frame.DataFrame'>\n",
      "Index: 889 entries, 0 to 890\n",
      "Data columns (total 9 columns):\n",
      " #   Column          Non-Null Count  Dtype  \n",
      "---  ------          --------------  -----  \n",
      " 0   Survived        889 non-null    int64  \n",
      " 1   Pclass          889 non-null    int64  \n",
      " 2   Sex             889 non-null    int32  \n",
      " 3   Age             889 non-null    float64\n",
      " 4   SibSp           889 non-null    int64  \n",
      " 5   Parch           889 non-null    int64  \n",
      " 6   Fare            889 non-null    float64\n",
      " 7   Embarked        889 non-null    int32  \n",
      " 8   cabin_multiple  889 non-null    int64  \n",
      "dtypes: float64(2), int32(2), int64(5)\n",
      "memory usage: 62.5 KB\n"
     ]
    }
   ],
   "source": [
    "df.info()"
   ]
  },
  {
   "cell_type": "markdown",
   "id": "a49d08f9",
   "metadata": {
    "papermill": {
     "duration": 0.019752,
     "end_time": "2024-11-25T13:05:50.925576",
     "exception": false,
     "start_time": "2024-11-25T13:05:50.905824",
     "status": "completed"
    },
    "tags": []
   },
   "source": [
    "## Data Splitting"
   ]
  },
  {
   "cell_type": "code",
   "execution_count": 97,
   "id": "56e517a4",
   "metadata": {
    "papermill": {
     "duration": 0.035895,
     "end_time": "2024-11-25T13:05:50.981617",
     "exception": false,
     "start_time": "2024-11-25T13:05:50.945722",
     "status": "completed"
    },
    "tags": []
   },
   "outputs": [
    {
     "data": {
      "text/html": [
       "<div>\n",
       "<style scoped>\n",
       "    .dataframe tbody tr th:only-of-type {\n",
       "        vertical-align: middle;\n",
       "    }\n",
       "\n",
       "    .dataframe tbody tr th {\n",
       "        vertical-align: top;\n",
       "    }\n",
       "\n",
       "    .dataframe thead th {\n",
       "        text-align: right;\n",
       "    }\n",
       "</style>\n",
       "<table border=\"1\" class=\"dataframe\">\n",
       "  <thead>\n",
       "    <tr style=\"text-align: right;\">\n",
       "      <th></th>\n",
       "      <th>Survived</th>\n",
       "      <th>Pclass</th>\n",
       "      <th>Sex</th>\n",
       "      <th>Age</th>\n",
       "      <th>SibSp</th>\n",
       "      <th>Parch</th>\n",
       "      <th>Fare</th>\n",
       "      <th>Embarked</th>\n",
       "      <th>cabin_multiple</th>\n",
       "    </tr>\n",
       "  </thead>\n",
       "  <tbody>\n",
       "    <tr>\n",
       "      <th>0</th>\n",
       "      <td>0</td>\n",
       "      <td>3</td>\n",
       "      <td>1</td>\n",
       "      <td>22.0</td>\n",
       "      <td>1</td>\n",
       "      <td>0</td>\n",
       "      <td>7.2500</td>\n",
       "      <td>2</td>\n",
       "      <td>0</td>\n",
       "    </tr>\n",
       "    <tr>\n",
       "      <th>1</th>\n",
       "      <td>1</td>\n",
       "      <td>1</td>\n",
       "      <td>0</td>\n",
       "      <td>38.0</td>\n",
       "      <td>1</td>\n",
       "      <td>0</td>\n",
       "      <td>71.2833</td>\n",
       "      <td>0</td>\n",
       "      <td>1</td>\n",
       "    </tr>\n",
       "    <tr>\n",
       "      <th>2</th>\n",
       "      <td>1</td>\n",
       "      <td>3</td>\n",
       "      <td>0</td>\n",
       "      <td>26.0</td>\n",
       "      <td>0</td>\n",
       "      <td>0</td>\n",
       "      <td>7.9250</td>\n",
       "      <td>2</td>\n",
       "      <td>0</td>\n",
       "    </tr>\n",
       "    <tr>\n",
       "      <th>3</th>\n",
       "      <td>1</td>\n",
       "      <td>1</td>\n",
       "      <td>0</td>\n",
       "      <td>35.0</td>\n",
       "      <td>1</td>\n",
       "      <td>0</td>\n",
       "      <td>53.1000</td>\n",
       "      <td>2</td>\n",
       "      <td>1</td>\n",
       "    </tr>\n",
       "    <tr>\n",
       "      <th>4</th>\n",
       "      <td>0</td>\n",
       "      <td>3</td>\n",
       "      <td>1</td>\n",
       "      <td>35.0</td>\n",
       "      <td>0</td>\n",
       "      <td>0</td>\n",
       "      <td>8.0500</td>\n",
       "      <td>2</td>\n",
       "      <td>0</td>\n",
       "    </tr>\n",
       "  </tbody>\n",
       "</table>\n",
       "</div>"
      ],
      "text/plain": [
       "   Survived  Pclass  Sex   Age  SibSp  Parch     Fare  Embarked  \\\n",
       "0         0       3    1  22.0      1      0   7.2500         2   \n",
       "1         1       1    0  38.0      1      0  71.2833         0   \n",
       "2         1       3    0  26.0      0      0   7.9250         2   \n",
       "3         1       1    0  35.0      1      0  53.1000         2   \n",
       "4         0       3    1  35.0      0      0   8.0500         2   \n",
       "\n",
       "   cabin_multiple  \n",
       "0               0  \n",
       "1               1  \n",
       "2               0  \n",
       "3               1  \n",
       "4               0  "
      ]
     },
     "execution_count": 97,
     "metadata": {},
     "output_type": "execute_result"
    }
   ],
   "source": [
    "df.head()"
   ]
  },
  {
   "cell_type": "code",
   "execution_count": 98,
   "id": "47ac22d9",
   "metadata": {
    "papermill": {
     "duration": 0.028585,
     "end_time": "2024-11-25T13:05:51.030757",
     "exception": false,
     "start_time": "2024-11-25T13:05:51.002172",
     "status": "completed"
    },
    "tags": []
   },
   "outputs": [],
   "source": [
    "## splitting the data into independent and dependent features\n",
    "x = df.iloc[:,1:] # independent features\n",
    "y = df.Survived # dependent features"
   ]
  },
  {
   "cell_type": "code",
   "execution_count": 99,
   "id": "d8abb2e0",
   "metadata": {
    "papermill": {
     "duration": 0.143081,
     "end_time": "2024-11-25T13:05:51.194314",
     "exception": false,
     "start_time": "2024-11-25T13:05:51.051233",
     "status": "completed"
    },
    "tags": []
   },
   "outputs": [
    {
     "data": {
      "text/plain": [
       "((595, 8), (294, 8), (595,), (294,))"
      ]
     },
     "execution_count": 99,
     "metadata": {},
     "output_type": "execute_result"
    }
   ],
   "source": [
    "## splititng the data into training and testing data\n",
    "from sklearn.model_selection import train_test_split\n",
    "x_train,x_test,y_train,y_test = train_test_split(x,y,test_size=0.33, random_state=42) ## taking the test_size=33%\n",
    "x_train.shape, x_test.shape, y_train.shape, y_test.shape"
   ]
  },
  {
   "cell_type": "markdown",
   "id": "71639a77",
   "metadata": {
    "papermill": {
     "duration": 0.02002,
     "end_time": "2024-11-25T13:05:51.234653",
     "exception": false,
     "start_time": "2024-11-25T13:05:51.214633",
     "status": "completed"
    },
    "tags": []
   },
   "source": [
    "## Standardizing Data"
   ]
  },
  {
   "cell_type": "code",
   "execution_count": 100,
   "id": "39195338",
   "metadata": {
    "papermill": {
     "duration": 0.034799,
     "end_time": "2024-11-25T13:05:51.290123",
     "exception": false,
     "start_time": "2024-11-25T13:05:51.255324",
     "status": "completed"
    },
    "tags": []
   },
   "outputs": [],
   "source": [
    "## importing standardscaler\n",
    "from sklearn.preprocessing import StandardScaler\n",
    "scaler = StandardScaler() # initializing standard scaler\n",
    "x_train = scaler.fit_transform(x_train)\n",
    "x_test = scaler.transform(x_test)"
   ]
  },
  {
   "cell_type": "markdown",
   "id": "5cdb2e1d",
   "metadata": {
    "papermill": {
     "duration": 0.019884,
     "end_time": "2024-11-25T13:05:51.330455",
     "exception": false,
     "start_time": "2024-11-25T13:05:51.310571",
     "status": "completed"
    },
    "tags": []
   },
   "source": [
    "## Models"
   ]
  },
  {
   "cell_type": "code",
   "execution_count": 101,
   "id": "dbaee773",
   "metadata": {
    "papermill": {
     "duration": 0.288701,
     "end_time": "2024-11-25T13:05:51.639241",
     "exception": false,
     "start_time": "2024-11-25T13:05:51.350540",
     "status": "completed"
    },
    "tags": []
   },
   "outputs": [],
   "source": [
    "## importing different models\n",
    "from sklearn.linear_model import LogisticRegression       # Logistic Regression\n",
    "from sklearn.tree import DecisionTreeClassifier           # Decision Tree Classifier\n",
    "from sklearn.ensemble import RandomForestClassifier       # Random Forest Classifier\n",
    "from sklearn.ensemble import AdaBoostClassifier           # Adaboost Classifier\n",
    "from sklearn.ensemble import GradientBoostingClassifier   # Gradient Boosting Classifier\n",
    "from xgboost import XGBClassifier                         # Extra Gradient Boosting Classifier\n",
    "\n",
    "## evaluation libraries\n",
    "from sklearn.metrics import accuracy_score, f1_score, recall_score, precision_score "
   ]
  },
  {
   "cell_type": "code",
   "execution_count": 102,
   "id": "db9961ac",
   "metadata": {
    "papermill": {
     "duration": 0.028948,
     "end_time": "2024-11-25T13:05:51.689071",
     "exception": false,
     "start_time": "2024-11-25T13:05:51.660123",
     "status": "completed"
    },
    "tags": []
   },
   "outputs": [],
   "source": [
    "## Function for evalution of the models\n",
    "def evaluate_model(true, predicted):\n",
    "    accuracy = accuracy_score(true, predicted)\n",
    "    f1 = f1_score(true, predicted)\n",
    "    precision = precision_score(true, predicted)\n",
    "    recall = recall_score(true, predicted)\n",
    "    return accuracy, f1, precision, recall"
   ]
  },
  {
   "cell_type": "code",
   "execution_count": 114,
   "id": "dc690afd",
   "metadata": {
    "papermill": {
     "duration": 0.52217,
     "end_time": "2024-11-25T13:05:52.231786",
     "exception": false,
     "start_time": "2024-11-25T13:05:51.709616",
     "status": "completed"
    },
    "tags": []
   },
   "outputs": [
    {
     "data": {
      "text/html": [
       "<div>\n",
       "<style scoped>\n",
       "    .dataframe tbody tr th:only-of-type {\n",
       "        vertical-align: middle;\n",
       "    }\n",
       "\n",
       "    .dataframe tbody tr th {\n",
       "        vertical-align: top;\n",
       "    }\n",
       "\n",
       "    .dataframe thead th {\n",
       "        text-align: right;\n",
       "    }\n",
       "</style>\n",
       "<table border=\"1\" class=\"dataframe\">\n",
       "  <thead>\n",
       "    <tr style=\"text-align: right;\">\n",
       "      <th></th>\n",
       "      <th>Model</th>\n",
       "      <th>Train Accuracy</th>\n",
       "      <th>Test Accuracy</th>\n",
       "      <th>Train F1 Score</th>\n",
       "      <th>Test F1 Score</th>\n",
       "      <th>Train Precision</th>\n",
       "      <th>Test Precision</th>\n",
       "      <th>Train Recall</th>\n",
       "      <th>Test Recall</th>\n",
       "    </tr>\n",
       "  </thead>\n",
       "  <tbody>\n",
       "    <tr>\n",
       "      <th>0</th>\n",
       "      <td>Logistic Regression</td>\n",
       "      <td>0.79</td>\n",
       "      <td>0.81</td>\n",
       "      <td>0.72</td>\n",
       "      <td>0.75</td>\n",
       "      <td>0.74</td>\n",
       "      <td>0.73</td>\n",
       "      <td>0.70</td>\n",
       "      <td>0.76</td>\n",
       "    </tr>\n",
       "    <tr>\n",
       "      <th>1</th>\n",
       "      <td>Decision Tree</td>\n",
       "      <td>0.99</td>\n",
       "      <td>0.76</td>\n",
       "      <td>0.99</td>\n",
       "      <td>0.68</td>\n",
       "      <td>1.00</td>\n",
       "      <td>0.67</td>\n",
       "      <td>0.98</td>\n",
       "      <td>0.68</td>\n",
       "    </tr>\n",
       "    <tr>\n",
       "      <th>2</th>\n",
       "      <td>Random Forest</td>\n",
       "      <td>0.99</td>\n",
       "      <td>0.78</td>\n",
       "      <td>0.99</td>\n",
       "      <td>0.70</td>\n",
       "      <td>1.00</td>\n",
       "      <td>0.72</td>\n",
       "      <td>0.98</td>\n",
       "      <td>0.68</td>\n",
       "    </tr>\n",
       "    <tr>\n",
       "      <th>3</th>\n",
       "      <td>Adaboost Classifier</td>\n",
       "      <td>0.85</td>\n",
       "      <td>0.81</td>\n",
       "      <td>0.80</td>\n",
       "      <td>0.76</td>\n",
       "      <td>0.81</td>\n",
       "      <td>0.74</td>\n",
       "      <td>0.79</td>\n",
       "      <td>0.78</td>\n",
       "    </tr>\n",
       "    <tr>\n",
       "      <th>4</th>\n",
       "      <td>Gradient Boost Classifier</td>\n",
       "      <td>0.91</td>\n",
       "      <td>0.80</td>\n",
       "      <td>0.87</td>\n",
       "      <td>0.72</td>\n",
       "      <td>0.93</td>\n",
       "      <td>0.76</td>\n",
       "      <td>0.83</td>\n",
       "      <td>0.69</td>\n",
       "    </tr>\n",
       "    <tr>\n",
       "      <th>5</th>\n",
       "      <td>XG Boost Classifier</td>\n",
       "      <td>0.98</td>\n",
       "      <td>0.79</td>\n",
       "      <td>0.98</td>\n",
       "      <td>0.71</td>\n",
       "      <td>0.99</td>\n",
       "      <td>0.72</td>\n",
       "      <td>0.97</td>\n",
       "      <td>0.70</td>\n",
       "    </tr>\n",
       "  </tbody>\n",
       "</table>\n",
       "</div>"
      ],
      "text/plain": [
       "                       Model  Train Accuracy  Test Accuracy  Train F1 Score  \\\n",
       "0        Logistic Regression            0.79           0.81            0.72   \n",
       "1              Decision Tree            0.99           0.76            0.99   \n",
       "2              Random Forest            0.99           0.78            0.99   \n",
       "3        Adaboost Classifier            0.85           0.81            0.80   \n",
       "4  Gradient Boost Classifier            0.91           0.80            0.87   \n",
       "5        XG Boost Classifier            0.98           0.79            0.98   \n",
       "\n",
       "   Test F1 Score  Train Precision  Test Precision  Train Recall  Test Recall  \n",
       "0           0.75             0.74            0.73          0.70         0.76  \n",
       "1           0.68             1.00            0.67          0.98         0.68  \n",
       "2           0.70             1.00            0.72          0.98         0.68  \n",
       "3           0.76             0.81            0.74          0.79         0.78  \n",
       "4           0.72             0.93            0.76          0.83         0.69  \n",
       "5           0.71             0.99            0.72          0.97         0.70  "
      ]
     },
     "execution_count": 114,
     "metadata": {},
     "output_type": "execute_result"
    }
   ],
   "source": [
    "models = {\n",
    "    'Logistic Regression' : LogisticRegression(),\n",
    "    'Decision Tree' : DecisionTreeClassifier(),\n",
    "    'Random Forest' : RandomForestClassifier(),\n",
    "    'Adaboost Classifier' : AdaBoostClassifier(),\n",
    "    'Gradient Boost Classifier' : GradientBoostingClassifier(),\n",
    "    'XG Boost Classifier' : XGBClassifier()\n",
    "}\n",
    "\n",
    "# for i in range(len(list(models))):\n",
    "#     model = list(models.values())[i]\n",
    "#     model.fit(x_train, y_train)\n",
    "\n",
    "#     # Make predictions\n",
    "#     y_train_pred = model.predict(x_train)\n",
    "#     y_test_pred = model.predict(x_test)\n",
    "\n",
    "#     # Evaluate train and test dataset\n",
    "#     model_train_accuracy, model_train_f1, model_train_precision, model_train_recall = evaluate_model(y_train, y_train_pred)\n",
    "#     model_test_accuracy, model_test_f1, model_test_precision, model_test_recall = evaluate_model(y_test, y_test_pred)\n",
    "\n",
    "#     print('=' * 50)\n",
    "#     print(list(models.keys())[i])\n",
    "#     print('-' * 50)\n",
    "#     print('Model Performance for Training Set')\n",
    "#     print('-' * 50)\n",
    "#     print(f'Accuracy Score: {np.round(model_train_accuracy, 2)}')\n",
    "#     print(f'F1 Score: {np.round(model_train_f1, 2)}')\n",
    "#     print(f'Precision Score: {np.round(model_train_precision, 2)}')\n",
    "#     print(f'Recall Score: {np.round(model_train_recall, 2)}')\n",
    "#     print('-' * 50)\n",
    "#     print('Model Performance for Testing Set')\n",
    "#     print('-' * 50)\n",
    "#     print(f'Accuracy Score: {np.round(model_test_accuracy, 2)}')\n",
    "#     print(f'F1 Score: {np.round(model_test_f1, 2)}')\n",
    "#     print(f'Precision Score: {np.round(model_test_precision, 2)}')\n",
    "#     print(f'Recall Score: {np.round(model_test_recall, 2)}')\n",
    "#     print('=' * 50)\n",
    "\n",
    "# Initialize a list to store the results\n",
    "results = []\n",
    "\n",
    "# Iterate over the models\n",
    "for model_name, model in models.items():\n",
    "    model.fit(x_train, y_train)\n",
    "    \n",
    "    # Make predictions\n",
    "    y_train_pred = model.predict(x_train)\n",
    "    y_test_pred = model.predict(x_test)\n",
    "    \n",
    "    # Evaluate train and test dataset\n",
    "    model_train_accuracy, model_train_f1, model_train_precision, model_train_recall = evaluate_model(y_train, y_train_pred)\n",
    "    model_test_accuracy, model_test_f1, model_test_precision, model_test_recall = evaluate_model(y_test, y_test_pred)\n",
    "    \n",
    "    # Append the results\n",
    "    results.append({\n",
    "        'Model': model_name,\n",
    "        'Train Accuracy': np.round(model_train_accuracy, 2),\n",
    "        'Test Accuracy': np.round(model_test_accuracy, 2),\n",
    "        'Train F1 Score': np.round(model_train_f1, 2),\n",
    "        'Test F1 Score': np.round(model_test_f1, 2),\n",
    "        'Train Precision': np.round(model_train_precision, 2),\n",
    "        'Test Precision': np.round(model_test_precision, 2),\n",
    "        'Train Recall': np.round(model_train_recall, 2),\n",
    "        'Test Recall': np.round(model_test_recall, 2)    \n",
    "    })\n",
    "\n",
    "# Convert the results to a DataFrame\n",
    "results_df = pd.DataFrame(results)\n",
    "\n",
    "# Display the DataFrame\n",
    "results_df"
   ]
  },
  {
   "cell_type": "markdown",
   "id": "440cb673",
   "metadata": {
    "papermill": {
     "duration": 0.022974,
     "end_time": "2024-11-25T13:05:52.276762",
     "exception": false,
     "start_time": "2024-11-25T13:05:52.253788",
     "status": "completed"
    },
    "tags": []
   },
   "source": [
    "So, from the above metrics we can finally say that, Adaboost Classifier and Logistic Regression has the higher accuracy rate."
   ]
  },
  {
   "cell_type": "markdown",
   "id": "89679e13",
   "metadata": {
    "papermill": {
     "duration": 0.02129,
     "end_time": "2024-11-25T13:05:52.321025",
     "exception": false,
     "start_time": "2024-11-25T13:05:52.299735",
     "status": "completed"
    },
    "tags": []
   },
   "source": [
    "## Hyper-Prameter Tunning"
   ]
  },
  {
   "cell_type": "code",
   "execution_count": null,
   "id": "83088aac-d171-4abe-ba9f-373b0f632f0a",
   "metadata": {},
   "outputs": [],
   "source": [
    "adb = AdaBoostClassifier()\n",
    "lgr = LogisticRegression()"
   ]
  },
  {
   "cell_type": "code",
   "execution_count": 108,
   "id": "082c1f46",
   "metadata": {
    "papermill": {
     "duration": 0.031129,
     "end_time": "2024-11-25T13:05:52.374329",
     "exception": false,
     "start_time": "2024-11-25T13:05:52.343200",
     "status": "completed"
    },
    "tags": []
   },
   "outputs": [],
   "source": [
    "## taking the parameters for the models\n",
    "ada_boost_params = {\n",
    "    'learning_rate' : [0.1, 0.2, 0,5, 0.8, 0.9, 1.0],\n",
    "    'n_estimators' : [100, 200, 300, 500, 700, 800, 1000],\n",
    "    'algorithm' : ['SAMME', 'SAMME.R']\n",
    "}\n",
    "log_reg_params = {\n",
    "    'penalty' : ['l1', 'l2', 'elasticnet'],\n",
    "    'max_iter' : [100, 200, 400, 500, 600, 900, 1000],\n",
    "    'C' : [0.1, 0.2, 0.5, 0.9, 1.0],\n",
    "    'solver' : ['lbfgs', 'sag', 'newton-cg']\n",
    "}"
   ]
  },
  {
   "cell_type": "code",
   "execution_count": 109,
   "id": "6ad4dd92",
   "metadata": {
    "papermill": {
     "duration": 0.028581,
     "end_time": "2024-11-25T13:05:52.423559",
     "exception": false,
     "start_time": "2024-11-25T13:05:52.394978",
     "status": "completed"
    },
    "tags": []
   },
   "outputs": [],
   "source": [
    "## using grid search cv\n",
    "from sklearn.model_selection import GridSearchCV\n",
    "grid_models = [\n",
    "    ('Logistic Regression Classification', LogisticRegression(), log_reg_params),\n",
    "    ('AdaBoost Classifier', AdaBoostClassifier(), ada_boost_params)\n",
    "]"
   ]
  },
  {
   "cell_type": "code",
   "execution_count": 110,
   "id": "fa3ef2f0",
   "metadata": {
    "papermill": {
     "duration": 0.028127,
     "end_time": "2024-11-25T13:05:52.472442",
     "exception": false,
     "start_time": "2024-11-25T13:05:52.444315",
     "status": "completed"
    },
    "tags": []
   },
   "outputs": [],
   "source": [
    "## importing cross-validation and cross-validation-score \n",
    "from sklearn.model_selection import KFold, cross_val_score\n",
    "kf = KFold(n_splits=5,shuffle= True, random_state=42) ## initializing k-folds cross validation"
   ]
  },
  {
   "cell_type": "code",
   "execution_count": 111,
   "id": "e7bbca4f",
   "metadata": {
    "papermill": {
     "duration": 9.198739,
     "end_time": "2024-11-25T13:06:01.691859",
     "exception": false,
     "start_time": "2024-11-25T13:05:52.493120",
     "status": "completed"
    },
    "tags": []
   },
   "outputs": [],
   "source": [
    "import warnings \n",
    "warnings.filterwarnings('ignore')\n",
    "from sklearn.model_selection import RandomizedSearchCV\n",
    "model_params = {}\n",
    "for name, model, params in grid_models:\n",
    "    grid = RandomizedSearchCV(estimator=model,\n",
    "                                param_distributions=params,\n",
    "                                cv=kf,\n",
    "                                n_jobs=-1\n",
    "                               )\n",
    "    grid.fit(x_train,y_train)\n",
    "    model_params[name] = grid.best_params_\n"
   ]
  },
  {
   "cell_type": "code",
   "execution_count": 113,
   "id": "5b2c5d18",
   "metadata": {
    "papermill": {
     "duration": 0.030627,
     "end_time": "2024-11-25T13:06:01.744409",
     "exception": false,
     "start_time": "2024-11-25T13:06:01.713782",
     "status": "completed"
    },
    "tags": []
   },
   "outputs": [
    {
     "name": "stdout",
     "output_type": "stream",
     "text": [
      "----------------Best Params for Logistic Regression Classification-----------------------\n",
      "{'solver': 'sag', 'penalty': 'l2', 'max_iter': 900, 'C': 0.1}\n",
      "----------------Best Params for AdaBoost Classifier-----------------------\n",
      "{'n_estimators': 100, 'learning_rate': 0.1, 'algorithm': 'SAMME.R'}\n"
     ]
    }
   ],
   "source": [
    "for model_name in model_params:\n",
    "    print(f'----------------Best Params for {model_name}-----------------------')\n",
    "    print(model_params[model_name])\n",
    "    "
   ]
  },
  {
   "cell_type": "code",
   "execution_count": 117,
   "id": "6bbd928b",
   "metadata": {
    "papermill": {
     "duration": 0.182442,
     "end_time": "2024-11-25T13:06:01.947917",
     "exception": false,
     "start_time": "2024-11-25T13:06:01.765475",
     "status": "completed"
    },
    "tags": []
   },
   "outputs": [
    {
     "data": {
      "text/html": [
       "<div>\n",
       "<style scoped>\n",
       "    .dataframe tbody tr th:only-of-type {\n",
       "        vertical-align: middle;\n",
       "    }\n",
       "\n",
       "    .dataframe tbody tr th {\n",
       "        vertical-align: top;\n",
       "    }\n",
       "\n",
       "    .dataframe thead th {\n",
       "        text-align: right;\n",
       "    }\n",
       "</style>\n",
       "<table border=\"1\" class=\"dataframe\">\n",
       "  <thead>\n",
       "    <tr style=\"text-align: right;\">\n",
       "      <th></th>\n",
       "      <th>Model</th>\n",
       "      <th>Train Accuracy</th>\n",
       "      <th>Test Accuracy</th>\n",
       "      <th>Train F1 Score</th>\n",
       "      <th>Test F1 Score</th>\n",
       "      <th>Train Precision</th>\n",
       "      <th>Test Precision</th>\n",
       "      <th>Train Recall</th>\n",
       "      <th>Test Recall</th>\n",
       "    </tr>\n",
       "  </thead>\n",
       "  <tbody>\n",
       "    <tr>\n",
       "      <th>0</th>\n",
       "      <td>Logistic Regression</td>\n",
       "      <td>0.79</td>\n",
       "      <td>0.80</td>\n",
       "      <td>0.72</td>\n",
       "      <td>0.73</td>\n",
       "      <td>0.75</td>\n",
       "      <td>0.73</td>\n",
       "      <td>0.69</td>\n",
       "      <td>0.73</td>\n",
       "    </tr>\n",
       "    <tr>\n",
       "      <th>1</th>\n",
       "      <td>AdaBoost Classifier</td>\n",
       "      <td>0.82</td>\n",
       "      <td>0.81</td>\n",
       "      <td>0.76</td>\n",
       "      <td>0.75</td>\n",
       "      <td>0.77</td>\n",
       "      <td>0.73</td>\n",
       "      <td>0.76</td>\n",
       "      <td>0.77</td>\n",
       "    </tr>\n",
       "  </tbody>\n",
       "</table>\n",
       "</div>"
      ],
      "text/plain": [
       "                 Model  Train Accuracy  Test Accuracy  Train F1 Score  \\\n",
       "0  Logistic Regression            0.79           0.80            0.72   \n",
       "1  AdaBoost Classifier            0.82           0.81            0.76   \n",
       "\n",
       "   Test F1 Score  Train Precision  Test Precision  Train Recall  Test Recall  \n",
       "0           0.73             0.75            0.73          0.69         0.73  \n",
       "1           0.75             0.77            0.73          0.76         0.77  "
      ]
     },
     "execution_count": 117,
     "metadata": {},
     "output_type": "execute_result"
    }
   ],
   "source": [
    "## checking the accuracy with the best parameters\n",
    "models = {\n",
    "    'Logistic Regression' : LogisticRegression(penalty='l2',max_iter=900, solver='sag',C=0.1),\n",
    "    'AdaBoost Classifier' : AdaBoostClassifier(n_estimators=100, learning_rate=0.1, algorithm = 'SAMME.R')\n",
    "}\n",
    "\n",
    "# Initialize a list to store the results\n",
    "results = []\n",
    "\n",
    "# Iterate over the models\n",
    "for model_name, model in models.items():\n",
    "    model.fit(x_train, y_train)\n",
    "    \n",
    "    # Make predictions\n",
    "    y_train_pred = model.predict(x_train)\n",
    "    y_test_pred = model.predict(x_test)\n",
    "    \n",
    "    # Evaluate train and test dataset\n",
    "    model_train_accuracy, model_train_f1, model_train_precision, model_train_recall = evaluate_model(y_train, y_train_pred)\n",
    "    model_test_accuracy, model_test_f1, model_test_precision, model_test_recall = evaluate_model(y_test, y_test_pred)\n",
    "    \n",
    "    # Append the results\n",
    "    results.append({\n",
    "        'Model': model_name,\n",
    "        'Train Accuracy': np.round(model_train_accuracy, 2),\n",
    "        'Test Accuracy': np.round(model_test_accuracy, 2),\n",
    "        'Train F1 Score': np.round(model_train_f1, 2),\n",
    "        'Test F1 Score': np.round(model_test_f1, 2),\n",
    "        'Train Precision': np.round(model_train_precision, 2),\n",
    "        'Test Precision': np.round(model_test_precision, 2),\n",
    "        'Train Recall': np.round(model_train_recall, 2),\n",
    "        'Test Recall': np.round(model_test_recall, 2)    \n",
    "    })\n",
    "\n",
    "# Convert the results to a DataFrame\n",
    "results_df = pd.DataFrame(results)\n",
    "\n",
    "# Display the DataFrame\n",
    "results_df"
   ]
  },
  {
   "cell_type": "markdown",
   "id": "736b0b31",
   "metadata": {
    "papermill": {
     "duration": 0.021095,
     "end_time": "2024-11-25T13:06:01.990307",
     "exception": false,
     "start_time": "2024-11-25T13:06:01.969212",
     "status": "completed"
    },
    "tags": []
   },
   "source": [
    "##### So from the above metrics AdaBoost Classifier is the best model for classifying the data"
   ]
  },
  {
   "cell_type": "code",
   "execution_count": 118,
   "id": "7152f940",
   "metadata": {
    "papermill": {
     "duration": 0.329116,
     "end_time": "2024-11-25T13:06:02.386830",
     "exception": false,
     "start_time": "2024-11-25T13:06:02.057714",
     "status": "completed"
    },
    "tags": []
   },
   "outputs": [],
   "source": [
    "## best model\n",
    "best_model = AdaBoostClassifier(n_estimators=100, learning_rate=0.1, algorithm = 'SAMME.R')"
   ]
  },
  {
   "cell_type": "code",
   "execution_count": 119,
   "id": "31da292f-6610-4ae6-916f-77423d219ba1",
   "metadata": {},
   "outputs": [
    {
     "data": {
      "text/html": [
       "<style>#sk-container-id-1 {\n",
       "  /* Definition of color scheme common for light and dark mode */\n",
       "  --sklearn-color-text: black;\n",
       "  --sklearn-color-line: gray;\n",
       "  /* Definition of color scheme for unfitted estimators */\n",
       "  --sklearn-color-unfitted-level-0: #fff5e6;\n",
       "  --sklearn-color-unfitted-level-1: #f6e4d2;\n",
       "  --sklearn-color-unfitted-level-2: #ffe0b3;\n",
       "  --sklearn-color-unfitted-level-3: chocolate;\n",
       "  /* Definition of color scheme for fitted estimators */\n",
       "  --sklearn-color-fitted-level-0: #f0f8ff;\n",
       "  --sklearn-color-fitted-level-1: #d4ebff;\n",
       "  --sklearn-color-fitted-level-2: #b3dbfd;\n",
       "  --sklearn-color-fitted-level-3: cornflowerblue;\n",
       "\n",
       "  /* Specific color for light theme */\n",
       "  --sklearn-color-text-on-default-background: var(--sg-text-color, var(--theme-code-foreground, var(--jp-content-font-color1, black)));\n",
       "  --sklearn-color-background: var(--sg-background-color, var(--theme-background, var(--jp-layout-color0, white)));\n",
       "  --sklearn-color-border-box: var(--sg-text-color, var(--theme-code-foreground, var(--jp-content-font-color1, black)));\n",
       "  --sklearn-color-icon: #696969;\n",
       "\n",
       "  @media (prefers-color-scheme: dark) {\n",
       "    /* Redefinition of color scheme for dark theme */\n",
       "    --sklearn-color-text-on-default-background: var(--sg-text-color, var(--theme-code-foreground, var(--jp-content-font-color1, white)));\n",
       "    --sklearn-color-background: var(--sg-background-color, var(--theme-background, var(--jp-layout-color0, #111)));\n",
       "    --sklearn-color-border-box: var(--sg-text-color, var(--theme-code-foreground, var(--jp-content-font-color1, white)));\n",
       "    --sklearn-color-icon: #878787;\n",
       "  }\n",
       "}\n",
       "\n",
       "#sk-container-id-1 {\n",
       "  color: var(--sklearn-color-text);\n",
       "}\n",
       "\n",
       "#sk-container-id-1 pre {\n",
       "  padding: 0;\n",
       "}\n",
       "\n",
       "#sk-container-id-1 input.sk-hidden--visually {\n",
       "  border: 0;\n",
       "  clip: rect(1px 1px 1px 1px);\n",
       "  clip: rect(1px, 1px, 1px, 1px);\n",
       "  height: 1px;\n",
       "  margin: -1px;\n",
       "  overflow: hidden;\n",
       "  padding: 0;\n",
       "  position: absolute;\n",
       "  width: 1px;\n",
       "}\n",
       "\n",
       "#sk-container-id-1 div.sk-dashed-wrapped {\n",
       "  border: 1px dashed var(--sklearn-color-line);\n",
       "  margin: 0 0.4em 0.5em 0.4em;\n",
       "  box-sizing: border-box;\n",
       "  padding-bottom: 0.4em;\n",
       "  background-color: var(--sklearn-color-background);\n",
       "}\n",
       "\n",
       "#sk-container-id-1 div.sk-container {\n",
       "  /* jupyter's `normalize.less` sets `[hidden] { display: none; }`\n",
       "     but bootstrap.min.css set `[hidden] { display: none !important; }`\n",
       "     so we also need the `!important` here to be able to override the\n",
       "     default hidden behavior on the sphinx rendered scikit-learn.org.\n",
       "     See: https://github.com/scikit-learn/scikit-learn/issues/21755 */\n",
       "  display: inline-block !important;\n",
       "  position: relative;\n",
       "}\n",
       "\n",
       "#sk-container-id-1 div.sk-text-repr-fallback {\n",
       "  display: none;\n",
       "}\n",
       "\n",
       "div.sk-parallel-item,\n",
       "div.sk-serial,\n",
       "div.sk-item {\n",
       "  /* draw centered vertical line to link estimators */\n",
       "  background-image: linear-gradient(var(--sklearn-color-text-on-default-background), var(--sklearn-color-text-on-default-background));\n",
       "  background-size: 2px 100%;\n",
       "  background-repeat: no-repeat;\n",
       "  background-position: center center;\n",
       "}\n",
       "\n",
       "/* Parallel-specific style estimator block */\n",
       "\n",
       "#sk-container-id-1 div.sk-parallel-item::after {\n",
       "  content: \"\";\n",
       "  width: 100%;\n",
       "  border-bottom: 2px solid var(--sklearn-color-text-on-default-background);\n",
       "  flex-grow: 1;\n",
       "}\n",
       "\n",
       "#sk-container-id-1 div.sk-parallel {\n",
       "  display: flex;\n",
       "  align-items: stretch;\n",
       "  justify-content: center;\n",
       "  background-color: var(--sklearn-color-background);\n",
       "  position: relative;\n",
       "}\n",
       "\n",
       "#sk-container-id-1 div.sk-parallel-item {\n",
       "  display: flex;\n",
       "  flex-direction: column;\n",
       "}\n",
       "\n",
       "#sk-container-id-1 div.sk-parallel-item:first-child::after {\n",
       "  align-self: flex-end;\n",
       "  width: 50%;\n",
       "}\n",
       "\n",
       "#sk-container-id-1 div.sk-parallel-item:last-child::after {\n",
       "  align-self: flex-start;\n",
       "  width: 50%;\n",
       "}\n",
       "\n",
       "#sk-container-id-1 div.sk-parallel-item:only-child::after {\n",
       "  width: 0;\n",
       "}\n",
       "\n",
       "/* Serial-specific style estimator block */\n",
       "\n",
       "#sk-container-id-1 div.sk-serial {\n",
       "  display: flex;\n",
       "  flex-direction: column;\n",
       "  align-items: center;\n",
       "  background-color: var(--sklearn-color-background);\n",
       "  padding-right: 1em;\n",
       "  padding-left: 1em;\n",
       "}\n",
       "\n",
       "\n",
       "/* Toggleable style: style used for estimator/Pipeline/ColumnTransformer box that is\n",
       "clickable and can be expanded/collapsed.\n",
       "- Pipeline and ColumnTransformer use this feature and define the default style\n",
       "- Estimators will overwrite some part of the style using the `sk-estimator` class\n",
       "*/\n",
       "\n",
       "/* Pipeline and ColumnTransformer style (default) */\n",
       "\n",
       "#sk-container-id-1 div.sk-toggleable {\n",
       "  /* Default theme specific background. It is overwritten whether we have a\n",
       "  specific estimator or a Pipeline/ColumnTransformer */\n",
       "  background-color: var(--sklearn-color-background);\n",
       "}\n",
       "\n",
       "/* Toggleable label */\n",
       "#sk-container-id-1 label.sk-toggleable__label {\n",
       "  cursor: pointer;\n",
       "  display: block;\n",
       "  width: 100%;\n",
       "  margin-bottom: 0;\n",
       "  padding: 0.5em;\n",
       "  box-sizing: border-box;\n",
       "  text-align: center;\n",
       "}\n",
       "\n",
       "#sk-container-id-1 label.sk-toggleable__label-arrow:before {\n",
       "  /* Arrow on the left of the label */\n",
       "  content: \"▸\";\n",
       "  float: left;\n",
       "  margin-right: 0.25em;\n",
       "  color: var(--sklearn-color-icon);\n",
       "}\n",
       "\n",
       "#sk-container-id-1 label.sk-toggleable__label-arrow:hover:before {\n",
       "  color: var(--sklearn-color-text);\n",
       "}\n",
       "\n",
       "/* Toggleable content - dropdown */\n",
       "\n",
       "#sk-container-id-1 div.sk-toggleable__content {\n",
       "  max-height: 0;\n",
       "  max-width: 0;\n",
       "  overflow: hidden;\n",
       "  text-align: left;\n",
       "  /* unfitted */\n",
       "  background-color: var(--sklearn-color-unfitted-level-0);\n",
       "}\n",
       "\n",
       "#sk-container-id-1 div.sk-toggleable__content.fitted {\n",
       "  /* fitted */\n",
       "  background-color: var(--sklearn-color-fitted-level-0);\n",
       "}\n",
       "\n",
       "#sk-container-id-1 div.sk-toggleable__content pre {\n",
       "  margin: 0.2em;\n",
       "  border-radius: 0.25em;\n",
       "  color: var(--sklearn-color-text);\n",
       "  /* unfitted */\n",
       "  background-color: var(--sklearn-color-unfitted-level-0);\n",
       "}\n",
       "\n",
       "#sk-container-id-1 div.sk-toggleable__content.fitted pre {\n",
       "  /* unfitted */\n",
       "  background-color: var(--sklearn-color-fitted-level-0);\n",
       "}\n",
       "\n",
       "#sk-container-id-1 input.sk-toggleable__control:checked~div.sk-toggleable__content {\n",
       "  /* Expand drop-down */\n",
       "  max-height: 200px;\n",
       "  max-width: 100%;\n",
       "  overflow: auto;\n",
       "}\n",
       "\n",
       "#sk-container-id-1 input.sk-toggleable__control:checked~label.sk-toggleable__label-arrow:before {\n",
       "  content: \"▾\";\n",
       "}\n",
       "\n",
       "/* Pipeline/ColumnTransformer-specific style */\n",
       "\n",
       "#sk-container-id-1 div.sk-label input.sk-toggleable__control:checked~label.sk-toggleable__label {\n",
       "  color: var(--sklearn-color-text);\n",
       "  background-color: var(--sklearn-color-unfitted-level-2);\n",
       "}\n",
       "\n",
       "#sk-container-id-1 div.sk-label.fitted input.sk-toggleable__control:checked~label.sk-toggleable__label {\n",
       "  background-color: var(--sklearn-color-fitted-level-2);\n",
       "}\n",
       "\n",
       "/* Estimator-specific style */\n",
       "\n",
       "/* Colorize estimator box */\n",
       "#sk-container-id-1 div.sk-estimator input.sk-toggleable__control:checked~label.sk-toggleable__label {\n",
       "  /* unfitted */\n",
       "  background-color: var(--sklearn-color-unfitted-level-2);\n",
       "}\n",
       "\n",
       "#sk-container-id-1 div.sk-estimator.fitted input.sk-toggleable__control:checked~label.sk-toggleable__label {\n",
       "  /* fitted */\n",
       "  background-color: var(--sklearn-color-fitted-level-2);\n",
       "}\n",
       "\n",
       "#sk-container-id-1 div.sk-label label.sk-toggleable__label,\n",
       "#sk-container-id-1 div.sk-label label {\n",
       "  /* The background is the default theme color */\n",
       "  color: var(--sklearn-color-text-on-default-background);\n",
       "}\n",
       "\n",
       "/* On hover, darken the color of the background */\n",
       "#sk-container-id-1 div.sk-label:hover label.sk-toggleable__label {\n",
       "  color: var(--sklearn-color-text);\n",
       "  background-color: var(--sklearn-color-unfitted-level-2);\n",
       "}\n",
       "\n",
       "/* Label box, darken color on hover, fitted */\n",
       "#sk-container-id-1 div.sk-label.fitted:hover label.sk-toggleable__label.fitted {\n",
       "  color: var(--sklearn-color-text);\n",
       "  background-color: var(--sklearn-color-fitted-level-2);\n",
       "}\n",
       "\n",
       "/* Estimator label */\n",
       "\n",
       "#sk-container-id-1 div.sk-label label {\n",
       "  font-family: monospace;\n",
       "  font-weight: bold;\n",
       "  display: inline-block;\n",
       "  line-height: 1.2em;\n",
       "}\n",
       "\n",
       "#sk-container-id-1 div.sk-label-container {\n",
       "  text-align: center;\n",
       "}\n",
       "\n",
       "/* Estimator-specific */\n",
       "#sk-container-id-1 div.sk-estimator {\n",
       "  font-family: monospace;\n",
       "  border: 1px dotted var(--sklearn-color-border-box);\n",
       "  border-radius: 0.25em;\n",
       "  box-sizing: border-box;\n",
       "  margin-bottom: 0.5em;\n",
       "  /* unfitted */\n",
       "  background-color: var(--sklearn-color-unfitted-level-0);\n",
       "}\n",
       "\n",
       "#sk-container-id-1 div.sk-estimator.fitted {\n",
       "  /* fitted */\n",
       "  background-color: var(--sklearn-color-fitted-level-0);\n",
       "}\n",
       "\n",
       "/* on hover */\n",
       "#sk-container-id-1 div.sk-estimator:hover {\n",
       "  /* unfitted */\n",
       "  background-color: var(--sklearn-color-unfitted-level-2);\n",
       "}\n",
       "\n",
       "#sk-container-id-1 div.sk-estimator.fitted:hover {\n",
       "  /* fitted */\n",
       "  background-color: var(--sklearn-color-fitted-level-2);\n",
       "}\n",
       "\n",
       "/* Specification for estimator info (e.g. \"i\" and \"?\") */\n",
       "\n",
       "/* Common style for \"i\" and \"?\" */\n",
       "\n",
       ".sk-estimator-doc-link,\n",
       "a:link.sk-estimator-doc-link,\n",
       "a:visited.sk-estimator-doc-link {\n",
       "  float: right;\n",
       "  font-size: smaller;\n",
       "  line-height: 1em;\n",
       "  font-family: monospace;\n",
       "  background-color: var(--sklearn-color-background);\n",
       "  border-radius: 1em;\n",
       "  height: 1em;\n",
       "  width: 1em;\n",
       "  text-decoration: none !important;\n",
       "  margin-left: 1ex;\n",
       "  /* unfitted */\n",
       "  border: var(--sklearn-color-unfitted-level-1) 1pt solid;\n",
       "  color: var(--sklearn-color-unfitted-level-1);\n",
       "}\n",
       "\n",
       ".sk-estimator-doc-link.fitted,\n",
       "a:link.sk-estimator-doc-link.fitted,\n",
       "a:visited.sk-estimator-doc-link.fitted {\n",
       "  /* fitted */\n",
       "  border: var(--sklearn-color-fitted-level-1) 1pt solid;\n",
       "  color: var(--sklearn-color-fitted-level-1);\n",
       "}\n",
       "\n",
       "/* On hover */\n",
       "div.sk-estimator:hover .sk-estimator-doc-link:hover,\n",
       ".sk-estimator-doc-link:hover,\n",
       "div.sk-label-container:hover .sk-estimator-doc-link:hover,\n",
       ".sk-estimator-doc-link:hover {\n",
       "  /* unfitted */\n",
       "  background-color: var(--sklearn-color-unfitted-level-3);\n",
       "  color: var(--sklearn-color-background);\n",
       "  text-decoration: none;\n",
       "}\n",
       "\n",
       "div.sk-estimator.fitted:hover .sk-estimator-doc-link.fitted:hover,\n",
       ".sk-estimator-doc-link.fitted:hover,\n",
       "div.sk-label-container:hover .sk-estimator-doc-link.fitted:hover,\n",
       ".sk-estimator-doc-link.fitted:hover {\n",
       "  /* fitted */\n",
       "  background-color: var(--sklearn-color-fitted-level-3);\n",
       "  color: var(--sklearn-color-background);\n",
       "  text-decoration: none;\n",
       "}\n",
       "\n",
       "/* Span, style for the box shown on hovering the info icon */\n",
       ".sk-estimator-doc-link span {\n",
       "  display: none;\n",
       "  z-index: 9999;\n",
       "  position: relative;\n",
       "  font-weight: normal;\n",
       "  right: .2ex;\n",
       "  padding: .5ex;\n",
       "  margin: .5ex;\n",
       "  width: min-content;\n",
       "  min-width: 20ex;\n",
       "  max-width: 50ex;\n",
       "  color: var(--sklearn-color-text);\n",
       "  box-shadow: 2pt 2pt 4pt #999;\n",
       "  /* unfitted */\n",
       "  background: var(--sklearn-color-unfitted-level-0);\n",
       "  border: .5pt solid var(--sklearn-color-unfitted-level-3);\n",
       "}\n",
       "\n",
       ".sk-estimator-doc-link.fitted span {\n",
       "  /* fitted */\n",
       "  background: var(--sklearn-color-fitted-level-0);\n",
       "  border: var(--sklearn-color-fitted-level-3);\n",
       "}\n",
       "\n",
       ".sk-estimator-doc-link:hover span {\n",
       "  display: block;\n",
       "}\n",
       "\n",
       "/* \"?\"-specific style due to the `<a>` HTML tag */\n",
       "\n",
       "#sk-container-id-1 a.estimator_doc_link {\n",
       "  float: right;\n",
       "  font-size: 1rem;\n",
       "  line-height: 1em;\n",
       "  font-family: monospace;\n",
       "  background-color: var(--sklearn-color-background);\n",
       "  border-radius: 1rem;\n",
       "  height: 1rem;\n",
       "  width: 1rem;\n",
       "  text-decoration: none;\n",
       "  /* unfitted */\n",
       "  color: var(--sklearn-color-unfitted-level-1);\n",
       "  border: var(--sklearn-color-unfitted-level-1) 1pt solid;\n",
       "}\n",
       "\n",
       "#sk-container-id-1 a.estimator_doc_link.fitted {\n",
       "  /* fitted */\n",
       "  border: var(--sklearn-color-fitted-level-1) 1pt solid;\n",
       "  color: var(--sklearn-color-fitted-level-1);\n",
       "}\n",
       "\n",
       "/* On hover */\n",
       "#sk-container-id-1 a.estimator_doc_link:hover {\n",
       "  /* unfitted */\n",
       "  background-color: var(--sklearn-color-unfitted-level-3);\n",
       "  color: var(--sklearn-color-background);\n",
       "  text-decoration: none;\n",
       "}\n",
       "\n",
       "#sk-container-id-1 a.estimator_doc_link.fitted:hover {\n",
       "  /* fitted */\n",
       "  background-color: var(--sklearn-color-fitted-level-3);\n",
       "}\n",
       "</style><div id=\"sk-container-id-1\" class=\"sk-top-container\"><div class=\"sk-text-repr-fallback\"><pre>AdaBoostClassifier(learning_rate=0.1, n_estimators=100)</pre><b>In a Jupyter environment, please rerun this cell to show the HTML representation or trust the notebook. <br />On GitHub, the HTML representation is unable to render, please try loading this page with nbviewer.org.</b></div><div class=\"sk-container\" hidden><div class=\"sk-item\"><div class=\"sk-estimator fitted sk-toggleable\"><input class=\"sk-toggleable__control sk-hidden--visually\" id=\"sk-estimator-id-1\" type=\"checkbox\" checked><label for=\"sk-estimator-id-1\" class=\"sk-toggleable__label fitted sk-toggleable__label-arrow fitted\">&nbsp;&nbsp;AdaBoostClassifier<a class=\"sk-estimator-doc-link fitted\" rel=\"noreferrer\" target=\"_blank\" href=\"https://scikit-learn.org/1.5/modules/generated/sklearn.ensemble.AdaBoostClassifier.html\">?<span>Documentation for AdaBoostClassifier</span></a><span class=\"sk-estimator-doc-link fitted\">i<span>Fitted</span></span></label><div class=\"sk-toggleable__content fitted\"><pre>AdaBoostClassifier(learning_rate=0.1, n_estimators=100)</pre></div> </div></div></div></div>"
      ],
      "text/plain": [
       "AdaBoostClassifier(learning_rate=0.1, n_estimators=100)"
      ]
     },
     "execution_count": 119,
     "metadata": {},
     "output_type": "execute_result"
    }
   ],
   "source": [
    "best_model.fit(x_train, y_train)"
   ]
  },
  {
   "cell_type": "code",
   "execution_count": 126,
   "id": "0b0db8b8-b4fd-4faa-9122-ebdb3ed2cf60",
   "metadata": {},
   "outputs": [
    {
     "data": {
      "text/html": [
       "<div>\n",
       "<style scoped>\n",
       "    .dataframe tbody tr th:only-of-type {\n",
       "        vertical-align: middle;\n",
       "    }\n",
       "\n",
       "    .dataframe tbody tr th {\n",
       "        vertical-align: top;\n",
       "    }\n",
       "\n",
       "    .dataframe thead th {\n",
       "        text-align: right;\n",
       "    }\n",
       "</style>\n",
       "<table border=\"1\" class=\"dataframe\">\n",
       "  <thead>\n",
       "    <tr style=\"text-align: right;\">\n",
       "      <th></th>\n",
       "      <th>Survived</th>\n",
       "      <th>Pclass</th>\n",
       "      <th>Sex</th>\n",
       "      <th>Age</th>\n",
       "      <th>SibSp</th>\n",
       "      <th>Parch</th>\n",
       "      <th>Fare</th>\n",
       "      <th>Embarked</th>\n",
       "      <th>cabin_multiple</th>\n",
       "    </tr>\n",
       "  </thead>\n",
       "  <tbody>\n",
       "    <tr>\n",
       "      <th>886</th>\n",
       "      <td>0</td>\n",
       "      <td>2</td>\n",
       "      <td>1</td>\n",
       "      <td>27.000000</td>\n",
       "      <td>0</td>\n",
       "      <td>0</td>\n",
       "      <td>13.00</td>\n",
       "      <td>2</td>\n",
       "      <td>0</td>\n",
       "    </tr>\n",
       "    <tr>\n",
       "      <th>887</th>\n",
       "      <td>1</td>\n",
       "      <td>1</td>\n",
       "      <td>0</td>\n",
       "      <td>19.000000</td>\n",
       "      <td>0</td>\n",
       "      <td>0</td>\n",
       "      <td>30.00</td>\n",
       "      <td>2</td>\n",
       "      <td>1</td>\n",
       "    </tr>\n",
       "    <tr>\n",
       "      <th>888</th>\n",
       "      <td>0</td>\n",
       "      <td>3</td>\n",
       "      <td>0</td>\n",
       "      <td>29.642093</td>\n",
       "      <td>1</td>\n",
       "      <td>2</td>\n",
       "      <td>23.45</td>\n",
       "      <td>2</td>\n",
       "      <td>0</td>\n",
       "    </tr>\n",
       "    <tr>\n",
       "      <th>889</th>\n",
       "      <td>1</td>\n",
       "      <td>1</td>\n",
       "      <td>1</td>\n",
       "      <td>26.000000</td>\n",
       "      <td>0</td>\n",
       "      <td>0</td>\n",
       "      <td>30.00</td>\n",
       "      <td>0</td>\n",
       "      <td>1</td>\n",
       "    </tr>\n",
       "    <tr>\n",
       "      <th>890</th>\n",
       "      <td>0</td>\n",
       "      <td>3</td>\n",
       "      <td>1</td>\n",
       "      <td>32.000000</td>\n",
       "      <td>0</td>\n",
       "      <td>0</td>\n",
       "      <td>7.75</td>\n",
       "      <td>1</td>\n",
       "      <td>0</td>\n",
       "    </tr>\n",
       "  </tbody>\n",
       "</table>\n",
       "</div>"
      ],
      "text/plain": [
       "     Survived  Pclass  Sex        Age  SibSp  Parch   Fare  Embarked  \\\n",
       "886         0       2    1  27.000000      0      0  13.00         2   \n",
       "887         1       1    0  19.000000      0      0  30.00         2   \n",
       "888         0       3    0  29.642093      1      2  23.45         2   \n",
       "889         1       1    1  26.000000      0      0  30.00         0   \n",
       "890         0       3    1  32.000000      0      0   7.75         1   \n",
       "\n",
       "     cabin_multiple  \n",
       "886               0  \n",
       "887               1  \n",
       "888               0  \n",
       "889               1  \n",
       "890               0  "
      ]
     },
     "execution_count": 126,
     "metadata": {},
     "output_type": "execute_result"
    }
   ],
   "source": [
    "df.tail()"
   ]
  },
  {
   "cell_type": "code",
   "execution_count": 127,
   "id": "76e27038-e8c5-419e-b30a-723a0ef8f358",
   "metadata": {},
   "outputs": [
    {
     "data": {
      "text/plain": [
       "array([0], dtype=int64)"
      ]
     },
     "execution_count": 127,
     "metadata": {},
     "output_type": "execute_result"
    }
   ],
   "source": [
    "new_data = [[2,\t1,\t27.000000,\t0,\t0,\t13.00,\t2,\t0]]\n",
    "std_data = scaler.transform(new_data)\n",
    "best_model.predict(std_data)"
   ]
  },
  {
   "cell_type": "code",
   "execution_count": 130,
   "id": "9c955bf3-e2d9-44e1-92ff-f2be7de14caa",
   "metadata": {},
   "outputs": [
    {
     "name": "stdout",
     "output_type": "stream",
     "text": [
      "Pickled the models\n"
     ]
    }
   ],
   "source": [
    "## pickling the model\n",
    "import pickle\n",
    "pickle.dump(scaler, open('scaler.pkl', 'wb'))\n",
    "pickle.dump(best_model, open('model.pkl', 'wb'))\n",
    "print('Pickled the models')"
   ]
  }
 ],
 "metadata": {
  "kaggle": {
   "accelerator": "none",
   "dataSources": [
    {
     "datasetId": 1818188,
     "sourceId": 2965537,
     "sourceType": "datasetVersion"
    }
   ],
   "dockerImageVersionId": 30786,
   "isGpuEnabled": false,
   "isInternetEnabled": false,
   "language": "python",
   "sourceType": "notebook"
  },
  "kernelspec": {
   "display_name": "Python 3 (ipykernel)",
   "language": "python",
   "name": "python3"
  },
  "language_info": {
   "codemirror_mode": {
    "name": "ipython",
    "version": 3
   },
   "file_extension": ".py",
   "mimetype": "text/x-python",
   "name": "python",
   "nbconvert_exporter": "python",
   "pygments_lexer": "ipython3",
   "version": "3.11.5"
  },
  "papermill": {
   "default_parameters": {},
   "duration": 26.154777,
   "end_time": "2024-11-25T13:06:05.028821",
   "environment_variables": {},
   "exception": null,
   "input_path": "__notebook__.ipynb",
   "output_path": "__notebook__.ipynb",
   "parameters": {},
   "start_time": "2024-11-25T13:05:38.874044",
   "version": "2.6.0"
  }
 },
 "nbformat": 4,
 "nbformat_minor": 5
}
